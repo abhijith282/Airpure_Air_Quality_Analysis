{
 "cells": [
  {
   "cell_type": "code",
   "execution_count": 1,
   "id": "68b89c29-59a1-473c-8fcf-d0d1ff27145a",
   "metadata": {},
   "outputs": [
    {
     "name": "stdout",
     "output_type": "stream",
     "text": [
      "Requirement already satisfied: seaborn in c:\\users\\91892\\appdata\\local\\programs\\python\\python38\\lib\\site-packages (0.13.2)\n",
      "Requirement already satisfied: matplotlib!=3.6.1,>=3.4 in c:\\users\\91892\\appdata\\local\\programs\\python\\python38\\lib\\site-packages (from seaborn) (3.7.5)\n",
      "Requirement already satisfied: numpy!=1.24.0,>=1.20 in c:\\users\\91892\\appdata\\roaming\\python\\python38\\site-packages (from seaborn) (1.24.4)\n",
      "Requirement already satisfied: pandas>=1.2 in c:\\users\\91892\\appdata\\roaming\\python\\python38\\site-packages (from seaborn) (2.0.3)\n",
      "Requirement already satisfied: fonttools>=4.22.0 in c:\\users\\91892\\appdata\\local\\programs\\python\\python38\\lib\\site-packages (from matplotlib!=3.6.1,>=3.4->seaborn) (4.53.1)\n",
      "Requirement already satisfied: contourpy>=1.0.1 in c:\\users\\91892\\appdata\\local\\programs\\python\\python38\\lib\\site-packages (from matplotlib!=3.6.1,>=3.4->seaborn) (1.1.1)\n",
      "Requirement already satisfied: pyparsing>=2.3.1 in c:\\users\\91892\\appdata\\local\\programs\\python\\python38\\lib\\site-packages (from matplotlib!=3.6.1,>=3.4->seaborn) (3.1.2)\n",
      "Requirement already satisfied: pillow>=6.2.0 in c:\\users\\91892\\appdata\\local\\programs\\python\\python38\\lib\\site-packages (from matplotlib!=3.6.1,>=3.4->seaborn) (10.4.0)\n",
      "Requirement already satisfied: packaging>=20.0 in c:\\users\\91892\\appdata\\local\\programs\\python\\python38\\lib\\site-packages (from matplotlib!=3.6.1,>=3.4->seaborn) (24.1)\n",
      "Requirement already satisfied: cycler>=0.10 in c:\\users\\91892\\appdata\\local\\programs\\python\\python38\\lib\\site-packages (from matplotlib!=3.6.1,>=3.4->seaborn) (0.12.1)\n",
      "Requirement already satisfied: importlib-resources>=3.2.0 in c:\\users\\91892\\appdata\\local\\programs\\python\\python38\\lib\\site-packages (from matplotlib!=3.6.1,>=3.4->seaborn) (6.4.0)\n",
      "Requirement already satisfied: kiwisolver>=1.0.1 in c:\\users\\91892\\appdata\\local\\programs\\python\\python38\\lib\\site-packages (from matplotlib!=3.6.1,>=3.4->seaborn) (1.4.5)\n",
      "Requirement already satisfied: python-dateutil>=2.7 in c:\\users\\91892\\appdata\\local\\programs\\python\\python38\\lib\\site-packages (from matplotlib!=3.6.1,>=3.4->seaborn) (2.9.0.post0)\n",
      "Requirement already satisfied: zipp>=3.1.0 in c:\\users\\91892\\appdata\\local\\programs\\python\\python38\\lib\\site-packages (from importlib-resources>=3.2.0->matplotlib!=3.6.1,>=3.4->seaborn) (3.19.2)\n",
      "Requirement already satisfied: tzdata>=2022.1 in c:\\users\\91892\\appdata\\local\\programs\\python\\python38\\lib\\site-packages (from pandas>=1.2->seaborn) (2024.1)\n",
      "Requirement already satisfied: pytz>=2020.1 in c:\\users\\91892\\appdata\\local\\programs\\python\\python38\\lib\\site-packages (from pandas>=1.2->seaborn) (2024.1)\n",
      "Requirement already satisfied: six>=1.5 in c:\\users\\91892\\appdata\\local\\programs\\python\\python38\\lib\\site-packages (from python-dateutil>=2.7->matplotlib!=3.6.1,>=3.4->seaborn) (1.16.0)\n"
     ]
    },
    {
     "name": "stderr",
     "output_type": "stream",
     "text": [
      "WARNING: You are using pip version 21.1.1; however, version 25.0.1 is available.\n",
      "You should consider upgrading via the 'c:\\users\\91892\\appdata\\local\\programs\\python\\python38\\python.exe -m pip install --upgrade pip' command.\n"
     ]
    }
   ],
   "source": [
    "!pip install seaborn"
   ]
  },
  {
   "cell_type": "code",
   "execution_count": 2,
   "id": "32900e18-7e39-449a-a072-b05c4b72e4c5",
   "metadata": {},
   "outputs": [
    {
     "name": "stdout",
     "output_type": "stream",
     "text": [
      "Requirement already satisfied: plotly in c:\\users\\91892\\appdata\\local\\programs\\python\\python38\\lib\\site-packages (6.2.0)\n",
      "Requirement already satisfied: narwhals>=1.15.1 in c:\\users\\91892\\appdata\\local\\programs\\python\\python38\\lib\\site-packages (from plotly) (1.42.1)\n",
      "Requirement already satisfied: packaging in c:\\users\\91892\\appdata\\local\\programs\\python\\python38\\lib\\site-packages (from plotly) (24.1)\n"
     ]
    },
    {
     "name": "stderr",
     "output_type": "stream",
     "text": [
      "WARNING: You are using pip version 21.1.1; however, version 25.0.1 is available.\n",
      "You should consider upgrading via the 'c:\\users\\91892\\appdata\\local\\programs\\python\\python38\\python.exe -m pip install --upgrade pip' command.\n"
     ]
    }
   ],
   "source": [
    "!pip install plotly"
   ]
  },
  {
   "cell_type": "code",
   "execution_count": 4,
   "id": "76dc0423-359a-4cdc-9097-82b5193a976c",
   "metadata": {},
   "outputs": [],
   "source": [
    "import pandas as pd\n",
    "import seaborn as sns\n",
    "import matplotlib.pyplot as plt\n",
    "import numpy as np"
   ]
  },
  {
   "cell_type": "code",
   "execution_count": 5,
   "id": "d17e0f03-8114-4e6f-9859-1581fba65217",
   "metadata": {},
   "outputs": [],
   "source": [
    "aqi_df = pd.read_csv(r\"E:\\Air-Pure\\aqi.csv\")\n",
    "idsp_df = pd.read_csv(r\"E:\\Air-Pure\\idsp.csv\", encoding='latin1')\n",
    "vahan_df = pd.read_csv(r\"E:\\Air-Pure\\vahan.csv\")"
   ]
  },
  {
   "cell_type": "code",
   "execution_count": 7,
   "id": "22aa6e5d-bb49-4193-921d-cd3b01e412cf",
   "metadata": {},
   "outputs": [
    {
     "data": {
      "text/html": [
       "<div>\n",
       "<style scoped>\n",
       "    .dataframe tbody tr th:only-of-type {\n",
       "        vertical-align: middle;\n",
       "    }\n",
       "\n",
       "    .dataframe tbody tr th {\n",
       "        vertical-align: top;\n",
       "    }\n",
       "\n",
       "    .dataframe thead th {\n",
       "        text-align: right;\n",
       "    }\n",
       "</style>\n",
       "<table border=\"1\" class=\"dataframe\">\n",
       "  <thead>\n",
       "    <tr style=\"text-align: right;\">\n",
       "      <th></th>\n",
       "      <th>date</th>\n",
       "      <th>state</th>\n",
       "      <th>area</th>\n",
       "      <th>number_of_monitoring_stations</th>\n",
       "      <th>prominent_pollutants</th>\n",
       "      <th>aqi_value</th>\n",
       "      <th>air_quality_status</th>\n",
       "      <th>unit</th>\n",
       "      <th>note</th>\n",
       "    </tr>\n",
       "  </thead>\n",
       "  <tbody>\n",
       "    <tr>\n",
       "      <th>0</th>\n",
       "      <td>30-04-2025</td>\n",
       "      <td>Maharashtra</td>\n",
       "      <td>Amravati</td>\n",
       "      <td>2</td>\n",
       "      <td>PM10</td>\n",
       "      <td>78</td>\n",
       "      <td>Satisfactory</td>\n",
       "      <td>number_of_monitoring_stations in Absolute Numb...</td>\n",
       "      <td>NaN</td>\n",
       "    </tr>\n",
       "    <tr>\n",
       "      <th>1</th>\n",
       "      <td>30-04-2025</td>\n",
       "      <td>Bihar</td>\n",
       "      <td>Purnia</td>\n",
       "      <td>1</td>\n",
       "      <td>CO</td>\n",
       "      <td>56</td>\n",
       "      <td>Satisfactory</td>\n",
       "      <td>number_of_monitoring_stations in Absolute Numb...</td>\n",
       "      <td>NaN</td>\n",
       "    </tr>\n",
       "    <tr>\n",
       "      <th>2</th>\n",
       "      <td>30-04-2025</td>\n",
       "      <td>Madhya Pradesh</td>\n",
       "      <td>Katni</td>\n",
       "      <td>1</td>\n",
       "      <td>O3</td>\n",
       "      <td>98</td>\n",
       "      <td>Satisfactory</td>\n",
       "      <td>number_of_monitoring_stations in Absolute Numb...</td>\n",
       "      <td>NaN</td>\n",
       "    </tr>\n",
       "  </tbody>\n",
       "</table>\n",
       "</div>"
      ],
      "text/plain": [
       "         date           state      area  number_of_monitoring_stations  \\\n",
       "0  30-04-2025     Maharashtra  Amravati                              2   \n",
       "1  30-04-2025           Bihar    Purnia                              1   \n",
       "2  30-04-2025  Madhya Pradesh     Katni                              1   \n",
       "\n",
       "  prominent_pollutants  aqi_value air_quality_status  \\\n",
       "0                 PM10         78       Satisfactory   \n",
       "1                   CO         56       Satisfactory   \n",
       "2                   O3         98       Satisfactory   \n",
       "\n",
       "                                                unit  note  \n",
       "0  number_of_monitoring_stations in Absolute Numb...   NaN  \n",
       "1  number_of_monitoring_stations in Absolute Numb...   NaN  \n",
       "2  number_of_monitoring_stations in Absolute Numb...   NaN  "
      ]
     },
     "execution_count": 7,
     "metadata": {},
     "output_type": "execute_result"
    }
   ],
   "source": [
    "aqi_df_copy = aqi_df\n",
    "aqi_df_copy .head(3)"
   ]
  },
  {
   "cell_type": "code",
   "execution_count": 14,
   "id": "4fee0aee-3686-4f6e-ac6e-d456b3785757",
   "metadata": {},
   "outputs": [
    {
     "data": {
      "text/html": [
       "<div>\n",
       "<style scoped>\n",
       "    .dataframe tbody tr th:only-of-type {\n",
       "        vertical-align: middle;\n",
       "    }\n",
       "\n",
       "    .dataframe tbody tr th {\n",
       "        vertical-align: top;\n",
       "    }\n",
       "\n",
       "    .dataframe thead th {\n",
       "        text-align: right;\n",
       "    }\n",
       "</style>\n",
       "<table border=\"1\" class=\"dataframe\">\n",
       "  <thead>\n",
       "    <tr style=\"text-align: right;\">\n",
       "      <th></th>\n",
       "      <th>date</th>\n",
       "      <th>state</th>\n",
       "      <th>area</th>\n",
       "      <th>number_of_monitoring_stations</th>\n",
       "      <th>prominent_pollutants</th>\n",
       "      <th>aqi_value</th>\n",
       "      <th>air_quality_status</th>\n",
       "      <th>unit</th>\n",
       "      <th>note</th>\n",
       "      <th>year_month</th>\n",
       "    </tr>\n",
       "  </thead>\n",
       "  <tbody>\n",
       "    <tr>\n",
       "      <th>6</th>\n",
       "      <td>2025-04-30</td>\n",
       "      <td>Kerala</td>\n",
       "      <td>Kollam</td>\n",
       "      <td>1</td>\n",
       "      <td>PM10</td>\n",
       "      <td>73</td>\n",
       "      <td>Satisfactory</td>\n",
       "      <td>number_of_monitoring_stations in Absolute Numb...</td>\n",
       "      <td>NaN</td>\n",
       "      <td>2025-04</td>\n",
       "    </tr>\n",
       "    <tr>\n",
       "      <th>10</th>\n",
       "      <td>2025-04-30</td>\n",
       "      <td>Karnataka</td>\n",
       "      <td>Hubballi</td>\n",
       "      <td>1</td>\n",
       "      <td>PM10</td>\n",
       "      <td>46</td>\n",
       "      <td>Good</td>\n",
       "      <td>number_of_monitoring_stations in Absolute Numb...</td>\n",
       "      <td>NaN</td>\n",
       "      <td>2025-04</td>\n",
       "    </tr>\n",
       "    <tr>\n",
       "      <th>13</th>\n",
       "      <td>2025-04-30</td>\n",
       "      <td>Tamil Nadu</td>\n",
       "      <td>Vellore</td>\n",
       "      <td>1</td>\n",
       "      <td>PM10</td>\n",
       "      <td>51</td>\n",
       "      <td>Satisfactory</td>\n",
       "      <td>number_of_monitoring_stations in Absolute Numb...</td>\n",
       "      <td>NaN</td>\n",
       "      <td>2025-04</td>\n",
       "    </tr>\n",
       "  </tbody>\n",
       "</table>\n",
       "</div>"
      ],
      "text/plain": [
       "         date       state      area  number_of_monitoring_stations  \\\n",
       "6  2025-04-30      Kerala    Kollam                              1   \n",
       "10 2025-04-30   Karnataka  Hubballi                              1   \n",
       "13 2025-04-30  Tamil Nadu   Vellore                              1   \n",
       "\n",
       "   prominent_pollutants  aqi_value air_quality_status  \\\n",
       "6                  PM10         73       Satisfactory   \n",
       "10                 PM10         46               Good   \n",
       "13                 PM10         51       Satisfactory   \n",
       "\n",
       "                                                 unit  note year_month  \n",
       "6   number_of_monitoring_stations in Absolute Numb...   NaN    2025-04  \n",
       "10  number_of_monitoring_stations in Absolute Numb...   NaN    2025-04  \n",
       "13  number_of_monitoring_stations in Absolute Numb...   NaN    2025-04  "
      ]
     },
     "execution_count": 14,
     "metadata": {},
     "output_type": "execute_result"
    }
   ],
   "source": [
    "southern_states = ['Andhra Pradesh', 'Karnataka', 'Kerala', 'Tamil Nadu', 'Telangana']\n",
    "southern_df = aqi_df_copy[ aqi_df_copy['state'].isin(southern_states)]\n",
    "southern_df.head(3)"
   ]
  },
  {
   "cell_type": "code",
   "execution_count": 16,
   "id": "811f49ed-7dce-4e74-a931-d65aa6c2b82c",
   "metadata": {},
   "outputs": [
    {
     "data": {
      "text/html": [
       "<div>\n",
       "<style scoped>\n",
       "    .dataframe tbody tr th:only-of-type {\n",
       "        vertical-align: middle;\n",
       "    }\n",
       "\n",
       "    .dataframe tbody tr th {\n",
       "        vertical-align: top;\n",
       "    }\n",
       "\n",
       "    .dataframe thead th {\n",
       "        text-align: right;\n",
       "    }\n",
       "</style>\n",
       "<table border=\"1\" class=\"dataframe\">\n",
       "  <thead>\n",
       "    <tr style=\"text-align: right;\">\n",
       "      <th></th>\n",
       "      <th>state</th>\n",
       "      <th>prominent_pollutants</th>\n",
       "      <th>count</th>\n",
       "    </tr>\n",
       "  </thead>\n",
       "  <tbody>\n",
       "    <tr>\n",
       "      <th>0</th>\n",
       "      <td>Andhra Pradesh</td>\n",
       "      <td>CO</td>\n",
       "      <td>520</td>\n",
       "    </tr>\n",
       "    <tr>\n",
       "      <th>1</th>\n",
       "      <td>Andhra Pradesh</td>\n",
       "      <td>CO,NO2</td>\n",
       "      <td>25</td>\n",
       "    </tr>\n",
       "    <tr>\n",
       "      <th>2</th>\n",
       "      <td>Andhra Pradesh</td>\n",
       "      <td>CO,O3</td>\n",
       "      <td>7</td>\n",
       "    </tr>\n",
       "  </tbody>\n",
       "</table>\n",
       "</div>"
      ],
      "text/plain": [
       "            state prominent_pollutants  count\n",
       "0  Andhra Pradesh                   CO    520\n",
       "1  Andhra Pradesh               CO,NO2     25\n",
       "2  Andhra Pradesh                CO,O3      7"
      ]
     },
     "execution_count": 16,
     "metadata": {},
     "output_type": "execute_result"
    }
   ],
   "source": [
    "pollutant_counts = southern_df.groupby(['state','prominent_pollutants']).size().reset_index(name='count')\n",
    "pollutant_counts.head(3)"
   ]
  },
  {
   "cell_type": "code",
   "execution_count": 29,
   "id": "5135210c-ee9f-4559-a0fc-9a3ebcbff8d7",
   "metadata": {},
   "outputs": [
    {
     "data": {
      "text/html": [
       "<div>\n",
       "<style scoped>\n",
       "    .dataframe tbody tr th:only-of-type {\n",
       "        vertical-align: middle;\n",
       "    }\n",
       "\n",
       "    .dataframe tbody tr th {\n",
       "        vertical-align: top;\n",
       "    }\n",
       "\n",
       "    .dataframe thead th {\n",
       "        text-align: right;\n",
       "    }\n",
       "</style>\n",
       "<table border=\"1\" class=\"dataframe\">\n",
       "  <thead>\n",
       "    <tr style=\"text-align: right;\">\n",
       "      <th></th>\n",
       "      <th>state</th>\n",
       "      <th>prominent_pollutants</th>\n",
       "      <th>count</th>\n",
       "    </tr>\n",
       "  </thead>\n",
       "  <tbody>\n",
       "    <tr>\n",
       "      <th>0</th>\n",
       "      <td>Andhra Pradesh</td>\n",
       "      <td>PM10</td>\n",
       "      <td>3182</td>\n",
       "    </tr>\n",
       "    <tr>\n",
       "      <th>1</th>\n",
       "      <td>Andhra Pradesh</td>\n",
       "      <td>PM2.5</td>\n",
       "      <td>1757</td>\n",
       "    </tr>\n",
       "    <tr>\n",
       "      <th>2</th>\n",
       "      <td>Karnataka</td>\n",
       "      <td>PM10</td>\n",
       "      <td>13404</td>\n",
       "    </tr>\n",
       "    <tr>\n",
       "      <th>3</th>\n",
       "      <td>Karnataka</td>\n",
       "      <td>CO</td>\n",
       "      <td>2913</td>\n",
       "    </tr>\n",
       "    <tr>\n",
       "      <th>4</th>\n",
       "      <td>Kerala</td>\n",
       "      <td>PM10</td>\n",
       "      <td>3167</td>\n",
       "    </tr>\n",
       "    <tr>\n",
       "      <th>5</th>\n",
       "      <td>Kerala</td>\n",
       "      <td>PM2.5</td>\n",
       "      <td>1123</td>\n",
       "    </tr>\n",
       "    <tr>\n",
       "      <th>6</th>\n",
       "      <td>Tamil Nadu</td>\n",
       "      <td>PM10</td>\n",
       "      <td>6253</td>\n",
       "    </tr>\n",
       "    <tr>\n",
       "      <th>7</th>\n",
       "      <td>Tamil Nadu</td>\n",
       "      <td>PM2.5</td>\n",
       "      <td>2268</td>\n",
       "    </tr>\n",
       "    <tr>\n",
       "      <th>8</th>\n",
       "      <td>Telangana</td>\n",
       "      <td>PM2.5,PM10</td>\n",
       "      <td>343</td>\n",
       "    </tr>\n",
       "    <tr>\n",
       "      <th>9</th>\n",
       "      <td>Telangana</td>\n",
       "      <td>PM10</td>\n",
       "      <td>315</td>\n",
       "    </tr>\n",
       "  </tbody>\n",
       "</table>\n",
       "</div>"
      ],
      "text/plain": [
       "            state prominent_pollutants  count\n",
       "0  Andhra Pradesh                 PM10   3182\n",
       "1  Andhra Pradesh                PM2.5   1757\n",
       "2       Karnataka                 PM10  13404\n",
       "3       Karnataka                   CO   2913\n",
       "4          Kerala                 PM10   3167\n",
       "5          Kerala                PM2.5   1123\n",
       "6      Tamil Nadu                 PM10   6253\n",
       "7      Tamil Nadu                PM2.5   2268\n",
       "8       Telangana           PM2.5,PM10    343\n",
       "9       Telangana                 PM10    315"
      ]
     },
     "execution_count": 29,
     "metadata": {},
     "output_type": "execute_result"
    }
   ],
   "source": [
    "top_prominent_pollutants = pollutant_counts.groupby('state').apply(lambda x:x.nlargest(2,'count')).reset_index(drop=True)\n",
    "top_prominent_pollutants"
   ]
  },
  {
   "cell_type": "code",
   "execution_count": 30,
   "id": "32952e2f-9287-4124-bf4b-4df611fd4983",
   "metadata": {},
   "outputs": [
    {
     "data": {
      "image/png": "[encoded data removed]",
      "text/plain": [
       "<Figure size 1000x600 with 1 Axes>"
      ]
     },
     "metadata": {},
     "output_type": "display_data"
    }
   ],
   "source": [
    "plt.figure(figsize=(10,6))\n",
    "sns.barplot(\n",
    "    data=top_prominent_pollutants,\n",
    "    x='state',\n",
    "    y='count',\n",
    "    hue='prominent_pollutants'\n",
    ")\n",
    "plt.xticks(rotation=45)\n",
    "plt.title('Top 2 Prominent Pollutants per State')\n",
    "plt.show()"
   ]
  },
  {
   "cell_type": "code",
   "execution_count": 31,
   "id": "f14c4baf-848d-41a6-b117-0f3b38b85d7c",
   "metadata": {},
   "outputs": [],
   "source": [
    "top_prominent_pollutants.to_excel(\"top_prominent_pollutants.xlsx\", index=False)"
   ]
  },
  {
   "cell_type": "code",
   "execution_count": 35,
   "id": "45763986-a52a-43f6-9081-7a61d0601646",
   "metadata": {},
   "outputs": [
    {
     "data": {
      "text/html": [
       "<div>\n",
       "<style scoped>\n",
       "    .dataframe tbody tr th:only-of-type {\n",
       "        vertical-align: middle;\n",
       "    }\n",
       "\n",
       "    .dataframe tbody tr th {\n",
       "        vertical-align: top;\n",
       "    }\n",
       "\n",
       "    .dataframe thead th {\n",
       "        text-align: right;\n",
       "    }\n",
       "</style>\n",
       "<table border=\"1\" class=\"dataframe\">\n",
       "  <thead>\n",
       "    <tr style=\"text-align: right;\">\n",
       "      <th></th>\n",
       "      <th>state</th>\n",
       "      <th>prominent_pollutants</th>\n",
       "      <th>count</th>\n",
       "    </tr>\n",
       "  </thead>\n",
       "  <tbody>\n",
       "    <tr>\n",
       "      <th>0</th>\n",
       "      <td>Andhra Pradesh</td>\n",
       "      <td>PM10,NO2,O3</td>\n",
       "      <td>1</td>\n",
       "    </tr>\n",
       "    <tr>\n",
       "      <th>1</th>\n",
       "      <td>Andhra Pradesh</td>\n",
       "      <td>PM10,NO2,PM2.5,O3</td>\n",
       "      <td>1</td>\n",
       "    </tr>\n",
       "    <tr>\n",
       "      <th>2</th>\n",
       "      <td>Karnataka</td>\n",
       "      <td>NO2,O3</td>\n",
       "      <td>1</td>\n",
       "    </tr>\n",
       "    <tr>\n",
       "      <th>3</th>\n",
       "      <td>Karnataka</td>\n",
       "      <td>NO2,SO2,CO</td>\n",
       "      <td>1</td>\n",
       "    </tr>\n",
       "    <tr>\n",
       "      <th>4</th>\n",
       "      <td>Kerala</td>\n",
       "      <td>CO,O3</td>\n",
       "      <td>6</td>\n",
       "    </tr>\n",
       "    <tr>\n",
       "      <th>5</th>\n",
       "      <td>Kerala</td>\n",
       "      <td>SO2</td>\n",
       "      <td>7</td>\n",
       "    </tr>\n",
       "    <tr>\n",
       "      <th>6</th>\n",
       "      <td>Tamil Nadu</td>\n",
       "      <td>PM10,NH3,CO</td>\n",
       "      <td>1</td>\n",
       "    </tr>\n",
       "    <tr>\n",
       "      <th>7</th>\n",
       "      <td>Tamil Nadu</td>\n",
       "      <td>PM10,NO2,PM2.5,O3</td>\n",
       "      <td>1</td>\n",
       "    </tr>\n",
       "    <tr>\n",
       "      <th>8</th>\n",
       "      <td>Telangana</td>\n",
       "      <td>CO,O3</td>\n",
       "      <td>1</td>\n",
       "    </tr>\n",
       "    <tr>\n",
       "      <th>9</th>\n",
       "      <td>Telangana</td>\n",
       "      <td>NO2</td>\n",
       "      <td>1</td>\n",
       "    </tr>\n",
       "  </tbody>\n",
       "</table>\n",
       "</div>"
      ],
      "text/plain": [
       "            state prominent_pollutants  count\n",
       "0  Andhra Pradesh          PM10,NO2,O3      1\n",
       "1  Andhra Pradesh    PM10,NO2,PM2.5,O3      1\n",
       "2       Karnataka               NO2,O3      1\n",
       "3       Karnataka           NO2,SO2,CO      1\n",
       "4          Kerala                CO,O3      6\n",
       "5          Kerala                  SO2      7\n",
       "6      Tamil Nadu          PM10,NH3,CO      1\n",
       "7      Tamil Nadu    PM10,NO2,PM2.5,O3      1\n",
       "8       Telangana                CO,O3      1\n",
       "9       Telangana                  NO2      1"
      ]
     },
     "execution_count": 35,
     "metadata": {},
     "output_type": "execute_result"
    }
   ],
   "source": [
    "bottom_prominent_pollutants = pollutant_counts.groupby('state').apply(lambda x:x.nsmallest(2,'count')).reset_index(drop=True)\n",
    "bottom_prominent_pollutants"
   ]
  },
  {
   "cell_type": "code",
   "execution_count": 36,
   "id": "e54afaea-02e7-4a45-91d3-40f3ed485921",
   "metadata": {},
   "outputs": [],
   "source": [
    "bottom_prominent_pollutants.to_excel(\"bottom_prominent_pollutants.xlsx\", index=False)"
   ]
  },
  {
   "cell_type": "code",
   "execution_count": 32,
   "id": "e2b48468-cd32-45a2-91f6-1bc2272af443",
   "metadata": {},
   "outputs": [
    {
     "name": "stdout",
     "output_type": "stream",
     "text": [
      "C:\\Users\\91892\n"
     ]
    }
   ],
   "source": [
    "import os\n",
    "print(os.getcwd())"
   ]
  },
  {
   "cell_type": "code",
   "execution_count": 33,
   "id": "0e49cba5-f5f1-453a-ae43-890f0ffba45a",
   "metadata": {},
   "outputs": [],
   "source": [
    "from pandas import Timestamp\n",
    "one_year_ago = Timestamp.today() - pd.DateOffset(years=1)\n",
    "aqi_1year = aqi_df_copy[aqi_df_copy['date']>=one_year_ago]"
   ]
  },
  {
   "cell_type": "code",
   "execution_count": 45,
   "id": "a9944feb-ce47-4416-9e49-7a5f3706ab11",
   "metadata": {},
   "outputs": [
    {
     "data": {
      "text/html": [
       "<div>\n",
       "<style scoped>\n",
       "    .dataframe tbody tr th:only-of-type {\n",
       "        vertical-align: middle;\n",
       "    }\n",
       "\n",
       "    .dataframe tbody tr th {\n",
       "        vertical-align: top;\n",
       "    }\n",
       "\n",
       "    .dataframe thead th {\n",
       "        text-align: right;\n",
       "    }\n",
       "</style>\n",
       "<table border=\"1\" class=\"dataframe\">\n",
       "  <thead>\n",
       "    <tr style=\"text-align: right;\">\n",
       "      <th></th>\n",
       "      <th>date</th>\n",
       "      <th>state</th>\n",
       "      <th>area</th>\n",
       "      <th>number_of_monitoring_stations</th>\n",
       "      <th>prominent_pollutants</th>\n",
       "      <th>aqi_value</th>\n",
       "      <th>air_quality_status</th>\n",
       "      <th>unit</th>\n",
       "      <th>note</th>\n",
       "      <th>year_month</th>\n",
       "    </tr>\n",
       "  </thead>\n",
       "  <tbody>\n",
       "    <tr>\n",
       "      <th>11</th>\n",
       "      <td>2025-04-30</td>\n",
       "      <td>Gujarat</td>\n",
       "      <td>Ahmedabad</td>\n",
       "      <td>8</td>\n",
       "      <td>PM2.5,PM10</td>\n",
       "      <td>110</td>\n",
       "      <td>Moderate</td>\n",
       "      <td>number_of_monitoring_stations in Absolute Numb...</td>\n",
       "      <td>NaN</td>\n",
       "      <td>2025-04</td>\n",
       "    </tr>\n",
       "    <tr>\n",
       "      <th>34</th>\n",
       "      <td>2025-04-30</td>\n",
       "      <td>Tamil Nadu</td>\n",
       "      <td>Chennai</td>\n",
       "      <td>7</td>\n",
       "      <td>PM10,O3,CO</td>\n",
       "      <td>46</td>\n",
       "      <td>Good</td>\n",
       "      <td>number_of_monitoring_stations in Absolute Numb...</td>\n",
       "      <td>NaN</td>\n",
       "      <td>2025-04</td>\n",
       "    </tr>\n",
       "    <tr>\n",
       "      <th>92</th>\n",
       "      <td>2025-04-30</td>\n",
       "      <td>West Bengal</td>\n",
       "      <td>Kolkata</td>\n",
       "      <td>6</td>\n",
       "      <td>PM10,NO2</td>\n",
       "      <td>65</td>\n",
       "      <td>Satisfactory</td>\n",
       "      <td>number_of_monitoring_stations in Absolute Numb...</td>\n",
       "      <td>NaN</td>\n",
       "      <td>2025-04</td>\n",
       "    </tr>\n",
       "  </tbody>\n",
       "</table>\n",
       "</div>"
      ],
      "text/plain": [
       "         date        state       area  number_of_monitoring_stations  \\\n",
       "11 2025-04-30      Gujarat  Ahmedabad                              8   \n",
       "34 2025-04-30   Tamil Nadu    Chennai                              7   \n",
       "92 2025-04-30  West Bengal    Kolkata                              6   \n",
       "\n",
       "   prominent_pollutants  aqi_value air_quality_status  \\\n",
       "11           PM2.5,PM10        110           Moderate   \n",
       "34           PM10,O3,CO         46               Good   \n",
       "92             PM10,NO2         65       Satisfactory   \n",
       "\n",
       "                                                 unit  note year_month  \n",
       "11  number_of_monitoring_stations in Absolute Numb...   NaN    2025-04  \n",
       "34  number_of_monitoring_stations in Absolute Numb...   NaN    2025-04  \n",
       "92  number_of_monitoring_stations in Absolute Numb...   NaN    2025-04  "
      ]
     },
     "execution_count": 45,
     "metadata": {},
     "output_type": "execute_result"
    }
   ],
   "source": [
    "metro_cities = ['Delhi', 'Mumbai', 'Chennai', 'Kolkata', 'Bengaluru', 'Hyderabad', 'Ahmedabad', 'Pune']\n",
    "aqi_metros = aqi_1year[aqi_1year['area'].isin(metro_cities)].copy()\n",
    "aqi_metros.head(3)"
   ]
  },
  {
   "cell_type": "code",
   "execution_count": 46,
   "id": "aec18af6-4c5e-4a8e-a12e-28dbbaea4a0d",
   "metadata": {},
   "outputs": [],
   "source": [
    "aqi_metros['day_type'] = aqi_metros['date'].dt.dayofweek.apply(lambda x : 'weekend' if x >= 5 else \"weekday\")"
   ]
  },
  {
   "cell_type": "code",
   "execution_count": 47,
   "id": "1c2e3856-01f1-479b-9e22-5e162c9c5505",
   "metadata": {},
   "outputs": [
    {
     "data": {
      "text/html": [
       "<div>\n",
       "<style scoped>\n",
       "    .dataframe tbody tr th:only-of-type {\n",
       "        vertical-align: middle;\n",
       "    }\n",
       "\n",
       "    .dataframe tbody tr th {\n",
       "        vertical-align: top;\n",
       "    }\n",
       "\n",
       "    .dataframe thead th {\n",
       "        text-align: right;\n",
       "    }\n",
       "</style>\n",
       "<table border=\"1\" class=\"dataframe\">\n",
       "  <thead>\n",
       "    <tr style=\"text-align: right;\">\n",
       "      <th></th>\n",
       "      <th>date</th>\n",
       "      <th>state</th>\n",
       "      <th>area</th>\n",
       "      <th>number_of_monitoring_stations</th>\n",
       "      <th>prominent_pollutants</th>\n",
       "      <th>aqi_value</th>\n",
       "      <th>air_quality_status</th>\n",
       "      <th>unit</th>\n",
       "      <th>note</th>\n",
       "      <th>year_month</th>\n",
       "      <th>day_type</th>\n",
       "    </tr>\n",
       "  </thead>\n",
       "  <tbody>\n",
       "    <tr>\n",
       "      <th>11</th>\n",
       "      <td>2025-04-30</td>\n",
       "      <td>Gujarat</td>\n",
       "      <td>Ahmedabad</td>\n",
       "      <td>8</td>\n",
       "      <td>PM2.5,PM10</td>\n",
       "      <td>110</td>\n",
       "      <td>Moderate</td>\n",
       "      <td>number_of_monitoring_stations in Absolute Numb...</td>\n",
       "      <td>NaN</td>\n",
       "      <td>2025-04</td>\n",
       "      <td>weekday</td>\n",
       "    </tr>\n",
       "    <tr>\n",
       "      <th>34</th>\n",
       "      <td>2025-04-30</td>\n",
       "      <td>Tamil Nadu</td>\n",
       "      <td>Chennai</td>\n",
       "      <td>7</td>\n",
       "      <td>PM10,O3,CO</td>\n",
       "      <td>46</td>\n",
       "      <td>Good</td>\n",
       "      <td>number_of_monitoring_stations in Absolute Numb...</td>\n",
       "      <td>NaN</td>\n",
       "      <td>2025-04</td>\n",
       "      <td>weekday</td>\n",
       "    </tr>\n",
       "    <tr>\n",
       "      <th>92</th>\n",
       "      <td>2025-04-30</td>\n",
       "      <td>West Bengal</td>\n",
       "      <td>Kolkata</td>\n",
       "      <td>6</td>\n",
       "      <td>PM10,NO2</td>\n",
       "      <td>65</td>\n",
       "      <td>Satisfactory</td>\n",
       "      <td>number_of_monitoring_stations in Absolute Numb...</td>\n",
       "      <td>NaN</td>\n",
       "      <td>2025-04</td>\n",
       "      <td>weekday</td>\n",
       "    </tr>\n",
       "    <tr>\n",
       "      <th>95</th>\n",
       "      <td>2025-04-30</td>\n",
       "      <td>Telangana</td>\n",
       "      <td>Hyderabad</td>\n",
       "      <td>11</td>\n",
       "      <td>PM2.5,PM10</td>\n",
       "      <td>74</td>\n",
       "      <td>Satisfactory</td>\n",
       "      <td>number_of_monitoring_stations in Absolute Numb...</td>\n",
       "      <td>NaN</td>\n",
       "      <td>2025-04</td>\n",
       "      <td>weekday</td>\n",
       "    </tr>\n",
       "    <tr>\n",
       "      <th>99</th>\n",
       "      <td>2025-04-30</td>\n",
       "      <td>Karnataka</td>\n",
       "      <td>Bengaluru</td>\n",
       "      <td>13</td>\n",
       "      <td>PM2.5,PM10</td>\n",
       "      <td>84</td>\n",
       "      <td>Satisfactory</td>\n",
       "      <td>number_of_monitoring_stations in Absolute Numb...</td>\n",
       "      <td>NaN</td>\n",
       "      <td>2025-04</td>\n",
       "      <td>weekday</td>\n",
       "    </tr>\n",
       "  </tbody>\n",
       "</table>\n",
       "</div>"
      ],
      "text/plain": [
       "         date        state       area  number_of_monitoring_stations  \\\n",
       "11 2025-04-30      Gujarat  Ahmedabad                              8   \n",
       "34 2025-04-30   Tamil Nadu    Chennai                              7   \n",
       "92 2025-04-30  West Bengal    Kolkata                              6   \n",
       "95 2025-04-30    Telangana  Hyderabad                             11   \n",
       "99 2025-04-30    Karnataka  Bengaluru                             13   \n",
       "\n",
       "   prominent_pollutants  aqi_value air_quality_status  \\\n",
       "11           PM2.5,PM10        110           Moderate   \n",
       "34           PM10,O3,CO         46               Good   \n",
       "92             PM10,NO2         65       Satisfactory   \n",
       "95           PM2.5,PM10         74       Satisfactory   \n",
       "99           PM2.5,PM10         84       Satisfactory   \n",
       "\n",
       "                                                 unit  note year_month  \\\n",
       "11  number_of_monitoring_stations in Absolute Numb...   NaN    2025-04   \n",
       "34  number_of_monitoring_stations in Absolute Numb...   NaN    2025-04   \n",
       "92  number_of_monitoring_stations in Absolute Numb...   NaN    2025-04   \n",
       "95  number_of_monitoring_stations in Absolute Numb...   NaN    2025-04   \n",
       "99  number_of_monitoring_stations in Absolute Numb...   NaN    2025-04   \n",
       "\n",
       "   day_type  \n",
       "11  weekday  \n",
       "34  weekday  \n",
       "92  weekday  \n",
       "95  weekday  \n",
       "99  weekday  "
      ]
     },
     "execution_count": 47,
     "metadata": {},
     "output_type": "execute_result"
    }
   ],
   "source": [
    "aqi_metros.head(5)"
   ]
  },
  {
   "cell_type": "code",
   "execution_count": 48,
   "id": "ee5ed85d-1c31-4efd-bdcf-ff919acdd213",
   "metadata": {},
   "outputs": [
    {
     "name": "stdout",
     "output_type": "stream",
     "text": [
      "         area day_type   aqi_value\n",
      "0   Ahmedabad  weekday  120.414894\n",
      "1   Ahmedabad  weekend  122.881579\n",
      "2   Bengaluru  weekday   78.367021\n",
      "3   Bengaluru  weekend   78.184211\n",
      "4     Chennai  weekday   73.042553\n",
      "5     Chennai  weekend   68.368421\n",
      "6       Delhi  weekday  228.989362\n",
      "7       Delhi  weekend  212.684211\n",
      "8   Hyderabad  weekday   84.867021\n",
      "9   Hyderabad  weekend   84.894737\n",
      "10    Kolkata  weekday  107.015957\n",
      "11    Kolkata  weekend  106.513158\n",
      "12     Mumbai  weekday  103.489362\n",
      "13     Mumbai  weekend  105.644737\n",
      "14       Pune  weekday  114.170213\n",
      "15       Pune  weekend  112.473684\n"
     ]
    }
   ],
   "source": [
    "aqi_comparison = aqi_metros.groupby(['area','day_type'])['aqi_value'].mean().reset_index()\n",
    "print(aqi_comparison)"
   ]
  },
  {
   "cell_type": "code",
   "execution_count": 49,
   "id": "cd329352-2f1a-4e7c-81d9-510d3f682e3d",
   "metadata": {},
   "outputs": [
    {
     "data": {
      "image/png": "[encoded data removed]",
      "text/plain": [
       "<Figure size 640x480 with 1 Axes>"
      ]
     },
     "metadata": {},
     "output_type": "display_data"
    }
   ],
   "source": [
    "sns.barplot(data=aqi_comparison, x='area',y='aqi_value',hue='day_type', palette='Set2' )\n",
    "plt.title('Average AQI on Weekdays vs Weekends in Indian Metro Cities (Last 1 Year)', fontsize=14)\n",
    "plt.xlabel('City')\n",
    "plt.ylabel('Average AQI')\n",
    "plt.xticks(rotation=45)\n",
    "\n",
    "# Show the chart\n",
    "plt.tight_layout()\n",
    "plt.show()"
   ]
  },
  {
   "cell_type": "code",
   "execution_count": 51,
   "id": "66aa2cef-c3e3-4220-bdb1-831491db2e41",
   "metadata": {},
   "outputs": [],
   "source": [
    "aqi_comparison.to_excel(\"aqi_comparison1.xlsx\", index=False)"
   ]
  },
  {
   "cell_type": "code",
   "execution_count": 59,
   "id": "2b08ef01-3bf5-4e91-b7dd-be0c5ea89e49",
   "metadata": {},
   "outputs": [
    {
     "data": {
      "text/plain": [
       "Index(['Rajasthan', 'Maharashtra', 'Karnataka', 'Tamil Nadu', 'Bihar',\n",
       "       'Haryana', 'Uttar Pradesh', 'Odisha', 'Madhya Pradesh',\n",
       "       'Andhra Pradesh'],\n",
       "      dtype='object', name='state')"
      ]
     },
     "execution_count": 59,
     "metadata": {},
     "output_type": "execute_result"
    }
   ],
   "source": [
    "aqi_df_copy['month_name'] = aqi_df_copy['date'].dt.strftime('%B')\n",
    "top_states = aqi_df_copy.groupby('state')['area'].nunique().sort_values(ascending=False).head(10).index\n",
    "top_states"
   ]
  },
  {
   "cell_type": "code",
   "execution_count": 60,
   "id": "e01990df-aedd-4f8a-8a76-a4ca1eb3c0f6",
   "metadata": {},
   "outputs": [
    {
     "data": {
      "text/html": [
       "<div>\n",
       "<style scoped>\n",
       "    .dataframe tbody tr th:only-of-type {\n",
       "        vertical-align: middle;\n",
       "    }\n",
       "\n",
       "    .dataframe tbody tr th {\n",
       "        vertical-align: top;\n",
       "    }\n",
       "\n",
       "    .dataframe thead th {\n",
       "        text-align: right;\n",
       "    }\n",
       "</style>\n",
       "<table border=\"1\" class=\"dataframe\">\n",
       "  <thead>\n",
       "    <tr style=\"text-align: right;\">\n",
       "      <th></th>\n",
       "      <th>date</th>\n",
       "      <th>state</th>\n",
       "      <th>area</th>\n",
       "      <th>number_of_monitoring_stations</th>\n",
       "      <th>prominent_pollutants</th>\n",
       "      <th>aqi_value</th>\n",
       "      <th>air_quality_status</th>\n",
       "      <th>unit</th>\n",
       "      <th>note</th>\n",
       "      <th>year_month</th>\n",
       "      <th>month_name</th>\n",
       "    </tr>\n",
       "  </thead>\n",
       "  <tbody>\n",
       "    <tr>\n",
       "      <th>0</th>\n",
       "      <td>2025-04-30</td>\n",
       "      <td>Maharashtra</td>\n",
       "      <td>Amravati</td>\n",
       "      <td>2</td>\n",
       "      <td>PM10</td>\n",
       "      <td>78</td>\n",
       "      <td>Satisfactory</td>\n",
       "      <td>number_of_monitoring_stations in Absolute Numb...</td>\n",
       "      <td>NaN</td>\n",
       "      <td>2025-04</td>\n",
       "      <td>April</td>\n",
       "    </tr>\n",
       "    <tr>\n",
       "      <th>1</th>\n",
       "      <td>2025-04-30</td>\n",
       "      <td>Bihar</td>\n",
       "      <td>Purnia</td>\n",
       "      <td>1</td>\n",
       "      <td>CO</td>\n",
       "      <td>56</td>\n",
       "      <td>Satisfactory</td>\n",
       "      <td>number_of_monitoring_stations in Absolute Numb...</td>\n",
       "      <td>NaN</td>\n",
       "      <td>2025-04</td>\n",
       "      <td>April</td>\n",
       "    </tr>\n",
       "    <tr>\n",
       "      <th>2</th>\n",
       "      <td>2025-04-30</td>\n",
       "      <td>Madhya Pradesh</td>\n",
       "      <td>Katni</td>\n",
       "      <td>1</td>\n",
       "      <td>O3</td>\n",
       "      <td>98</td>\n",
       "      <td>Satisfactory</td>\n",
       "      <td>number_of_monitoring_stations in Absolute Numb...</td>\n",
       "      <td>NaN</td>\n",
       "      <td>2025-04</td>\n",
       "      <td>April</td>\n",
       "    </tr>\n",
       "    <tr>\n",
       "      <th>8</th>\n",
       "      <td>2025-04-30</td>\n",
       "      <td>Odisha</td>\n",
       "      <td>Nayagarh</td>\n",
       "      <td>1</td>\n",
       "      <td>PM10</td>\n",
       "      <td>58</td>\n",
       "      <td>Satisfactory</td>\n",
       "      <td>number_of_monitoring_stations in Absolute Numb...</td>\n",
       "      <td>NaN</td>\n",
       "      <td>2025-04</td>\n",
       "      <td>April</td>\n",
       "    </tr>\n",
       "  </tbody>\n",
       "</table>\n",
       "</div>"
      ],
      "text/plain": [
       "        date           state      area  number_of_monitoring_stations  \\\n",
       "0 2025-04-30     Maharashtra  Amravati                              2   \n",
       "1 2025-04-30           Bihar    Purnia                              1   \n",
       "2 2025-04-30  Madhya Pradesh     Katni                              1   \n",
       "8 2025-04-30          Odisha  Nayagarh                              1   \n",
       "\n",
       "  prominent_pollutants  aqi_value air_quality_status  \\\n",
       "0                 PM10         78       Satisfactory   \n",
       "1                   CO         56       Satisfactory   \n",
       "2                   O3         98       Satisfactory   \n",
       "8                 PM10         58       Satisfactory   \n",
       "\n",
       "                                                unit  note year_month  \\\n",
       "0  number_of_monitoring_stations in Absolute Numb...   NaN    2025-04   \n",
       "1  number_of_monitoring_stations in Absolute Numb...   NaN    2025-04   \n",
       "2  number_of_monitoring_stations in Absolute Numb...   NaN    2025-04   \n",
       "8  number_of_monitoring_stations in Absolute Numb...   NaN    2025-04   \n",
       "\n",
       "  month_name  \n",
       "0      April  \n",
       "1      April  \n",
       "2      April  \n",
       "8      April  "
      ]
     },
     "execution_count": 60,
     "metadata": {},
     "output_type": "execute_result"
    }
   ],
   "source": [
    "top_states_df = aqi_df_copy[aqi_df_copy['state'].isin(top_states)].copy()\n",
    "top_states_df.head(4)"
   ]
  },
  {
   "cell_type": "code",
   "execution_count": 62,
   "id": "1b5fc5c7-da7f-40b1-9f25-0f1137145e4c",
   "metadata": {},
   "outputs": [],
   "source": [
    "monthly_avg_aqi = top_states_df.groupby(['state', 'month_name'])['aqi_value'].mean().reset_index()\n"
   ]
  },
  {
   "cell_type": "code",
   "execution_count": 64,
   "id": "852d8428-4992-4303-9a6e-70cb2aa57750",
   "metadata": {},
   "outputs": [
    {
     "data": {
      "text/html": [
       "<div>\n",
       "<style scoped>\n",
       "    .dataframe tbody tr th:only-of-type {\n",
       "        vertical-align: middle;\n",
       "    }\n",
       "\n",
       "    .dataframe tbody tr th {\n",
       "        vertical-align: top;\n",
       "    }\n",
       "\n",
       "    .dataframe thead th {\n",
       "        text-align: right;\n",
       "    }\n",
       "</style>\n",
       "<table border=\"1\" class=\"dataframe\">\n",
       "  <thead>\n",
       "    <tr style=\"text-align: right;\">\n",
       "      <th></th>\n",
       "      <th>state</th>\n",
       "      <th>month_name</th>\n",
       "      <th>aqi_value</th>\n",
       "    </tr>\n",
       "  </thead>\n",
       "  <tbody>\n",
       "    <tr>\n",
       "      <th>0</th>\n",
       "      <td>Andhra Pradesh</td>\n",
       "      <td>January</td>\n",
       "      <td>114.737649</td>\n",
       "    </tr>\n",
       "    <tr>\n",
       "      <th>1</th>\n",
       "      <td>Bihar</td>\n",
       "      <td>December</td>\n",
       "      <td>251.805770</td>\n",
       "    </tr>\n",
       "    <tr>\n",
       "      <th>2</th>\n",
       "      <td>Haryana</td>\n",
       "      <td>November</td>\n",
       "      <td>239.460372</td>\n",
       "    </tr>\n",
       "    <tr>\n",
       "      <th>3</th>\n",
       "      <td>Karnataka</td>\n",
       "      <td>February</td>\n",
       "      <td>76.640530</td>\n",
       "    </tr>\n",
       "    <tr>\n",
       "      <th>4</th>\n",
       "      <td>Madhya Pradesh</td>\n",
       "      <td>November</td>\n",
       "      <td>164.537452</td>\n",
       "    </tr>\n",
       "    <tr>\n",
       "      <th>5</th>\n",
       "      <td>Maharashtra</td>\n",
       "      <td>November</td>\n",
       "      <td>158.832972</td>\n",
       "    </tr>\n",
       "    <tr>\n",
       "      <th>6</th>\n",
       "      <td>Odisha</td>\n",
       "      <td>January</td>\n",
       "      <td>193.607264</td>\n",
       "    </tr>\n",
       "    <tr>\n",
       "      <th>7</th>\n",
       "      <td>Rajasthan</td>\n",
       "      <td>November</td>\n",
       "      <td>193.222376</td>\n",
       "    </tr>\n",
       "    <tr>\n",
       "      <th>8</th>\n",
       "      <td>Tamil Nadu</td>\n",
       "      <td>January</td>\n",
       "      <td>90.175020</td>\n",
       "    </tr>\n",
       "    <tr>\n",
       "      <th>9</th>\n",
       "      <td>Uttar Pradesh</td>\n",
       "      <td>November</td>\n",
       "      <td>200.607203</td>\n",
       "    </tr>\n",
       "  </tbody>\n",
       "</table>\n",
       "</div>"
      ],
      "text/plain": [
       "            state month_name   aqi_value\n",
       "0  Andhra Pradesh    January  114.737649\n",
       "1           Bihar   December  251.805770\n",
       "2         Haryana   November  239.460372\n",
       "3       Karnataka   February   76.640530\n",
       "4  Madhya Pradesh   November  164.537452\n",
       "5     Maharashtra   November  158.832972\n",
       "6          Odisha    January  193.607264\n",
       "7       Rajasthan   November  193.222376\n",
       "8      Tamil Nadu    January   90.175020\n",
       "9   Uttar Pradesh   November  200.607203"
      ]
     },
     "execution_count": 64,
     "metadata": {},
     "output_type": "execute_result"
    }
   ],
   "source": [
    "worst_months_per_state = (\n",
    "    monthly_avg_aqi\n",
    "    .groupby('state', group_keys=False)\n",
    "    .apply(lambda x: x.sort_values(by='aqi_value', ascending=False).head(1))\n",
    "    .reset_index(drop=True)\n",
    ")\n",
    "worst_months_per_state "
   ]
  },
  {
   "cell_type": "code",
   "execution_count": 66,
   "id": "84f49307-2146-4810-a277-8d8ab07f596b",
   "metadata": {},
   "outputs": [],
   "source": [
    "worst_months_per_state.to_excel(\"Worst_Months_per_stat.xlsx\", index=False)"
   ]
  },
  {
   "cell_type": "code",
   "execution_count": 69,
   "id": "2138ed9f-32ae-484d-867a-7ef6ddde07e5",
   "metadata": {},
   "outputs": [],
   "source": [
    "def classify_aqi(aqi):\n",
    "    if aqi <= 50:\n",
    "        return 'Good'\n",
    "    elif aqi <= 100:\n",
    "        return 'Satisfactory'\n",
    "    elif aqi <= 200:\n",
    "        return 'Moderate'\n",
    "    elif aqi <= 300:\n",
    "        return 'Poor'\n",
    "    elif aqi <= 400:\n",
    "        return 'Very Poor'\n",
    "    else:\n",
    "        return 'Severe'"
   ]
  },
  {
   "cell_type": "code",
   "execution_count": 70,
   "id": "95031f2e-ba19-401a-b877-2b6201b4ab5b",
   "metadata": {},
   "outputs": [],
   "source": [
    "bengaluru_df = aqi_df_copy[\n",
    "    (aqi_df_copy['area'].str.lower() == 'bengaluru') &\n",
    "    (aqi_df_copy['date'].dt.year == 2025) &\n",
    "    (aqi_df_copy['month_name'].isin(['March', 'April', 'May']))\n",
    "].copy()\n"
   ]
  },
  {
   "cell_type": "code",
   "execution_count": 71,
   "id": "7c8b1e3e-4e95-4b83-826e-38b0fb509fc5",
   "metadata": {},
   "outputs": [],
   "source": [
    "bengaluru_df['air_quality_status'] =  bengaluru_df['aqi_value'].apply(classify_aqi)"
   ]
  },
  {
   "cell_type": "code",
   "execution_count": 78,
   "id": "c1505b81-b652-47f5-92ab-71dee2732385",
   "metadata": {},
   "outputs": [
    {
     "name": "stdout",
     "output_type": "stream",
     "text": [
      "  Air Quality Category  Number of Days\n",
      "0             Moderate              13\n",
      "1         Satisfactory              48\n"
     ]
    }
   ],
   "source": [
    "Banglore_category_counts = bengaluru_df.groupby('air_quality_status')['date'].nunique().reset_index()\n",
    "Banglore_category_counts.columns = ['Air Quality Category', 'Number of Days']\n",
    "print(Banglore_category_counts)"
   ]
  },
  {
   "cell_type": "code",
   "execution_count": 79,
   "id": "90a2d89b-8ec4-49e6-9a6e-a77e79f8e444",
   "metadata": {},
   "outputs": [],
   "source": [
    "Banglore_category_counts.to_excel(\"Banglore_category_counts.xlsx\",index=False)"
   ]
  },
  {
   "cell_type": "code",
   "execution_count": 81,
   "id": "2ee6599f-35d4-4622-acb7-771a5ab15112",
   "metadata": {},
   "outputs": [
    {
     "ename": "KeyError",
     "evalue": "'disease_illness_name'",
     "output_type": "error",
     "traceback": [
      "\u001b[1;31m---------------------------------------------------------------------------\u001b[0m",
      "\u001b[1;31mKeyError\u001b[0m                                  Traceback (most recent call last)",
      "Cell \u001b[1;32mIn[81], line 1\u001b[0m\n\u001b[1;32m----> 1\u001b[0m disease_counts \u001b[38;5;241m=\u001b[39m (\u001b[43maqi_df_copy\u001b[49m\u001b[38;5;241;43m.\u001b[39;49m\u001b[43mgroupby\u001b[49m\u001b[43m(\u001b[49m\u001b[43m[\u001b[49m\u001b[38;5;124;43m'\u001b[39;49m\u001b[38;5;124;43mstate\u001b[39;49m\u001b[38;5;124;43m'\u001b[39;49m\u001b[43m,\u001b[49m\u001b[43m \u001b[49m\u001b[38;5;124;43m'\u001b[39;49m\u001b[38;5;124;43mdisease_illness_name\u001b[39;49m\u001b[38;5;124;43m'\u001b[39;49m\u001b[43m]\u001b[49m\u001b[43m)\u001b[49m\u001b[38;5;241m.\u001b[39msize()\u001b[38;5;241m.\u001b[39mreset_index(name\u001b[38;5;241m=\u001b[39m\u001b[38;5;124m'\u001b[39m\u001b[38;5;124mcount\u001b[39m\u001b[38;5;124m'\u001b[39m))\n\u001b[0;32m      2\u001b[0m disease_counts\u001b[38;5;241m.\u001b[39mhead(\u001b[38;5;241m3\u001b[39m)\n",
      "File \u001b[1;32m~\\AppData\\Roaming\\Python\\Python38\\site-packages\\pandas\\core\\frame.py:8252\u001b[0m, in \u001b[0;36mDataFrame.groupby\u001b[1;34m(self, by, axis, level, as_index, sort, group_keys, observed, dropna)\u001b[0m\n\u001b[0;32m   8249\u001b[0m     \u001b[38;5;28;01mraise\u001b[39;00m \u001b[38;5;167;01mTypeError\u001b[39;00m(\u001b[38;5;124m\"\u001b[39m\u001b[38;5;124mYou have to supply one of \u001b[39m\u001b[38;5;124m'\u001b[39m\u001b[38;5;124mby\u001b[39m\u001b[38;5;124m'\u001b[39m\u001b[38;5;124m and \u001b[39m\u001b[38;5;124m'\u001b[39m\u001b[38;5;124mlevel\u001b[39m\u001b[38;5;124m'\u001b[39m\u001b[38;5;124m\"\u001b[39m)\n\u001b[0;32m   8250\u001b[0m axis \u001b[38;5;241m=\u001b[39m \u001b[38;5;28mself\u001b[39m\u001b[38;5;241m.\u001b[39m_get_axis_number(axis)\n\u001b[1;32m-> 8252\u001b[0m \u001b[38;5;28;01mreturn\u001b[39;00m \u001b[43mDataFrameGroupBy\u001b[49m\u001b[43m(\u001b[49m\n\u001b[0;32m   8253\u001b[0m \u001b[43m    \u001b[49m\u001b[43mobj\u001b[49m\u001b[38;5;241;43m=\u001b[39;49m\u001b[38;5;28;43mself\u001b[39;49m\u001b[43m,\u001b[49m\n\u001b[0;32m   8254\u001b[0m \u001b[43m    \u001b[49m\u001b[43mkeys\u001b[49m\u001b[38;5;241;43m=\u001b[39;49m\u001b[43mby\u001b[49m\u001b[43m,\u001b[49m\n\u001b[0;32m   8255\u001b[0m \u001b[43m    \u001b[49m\u001b[43maxis\u001b[49m\u001b[38;5;241;43m=\u001b[39;49m\u001b[43maxis\u001b[49m\u001b[43m,\u001b[49m\n\u001b[0;32m   8256\u001b[0m \u001b[43m    \u001b[49m\u001b[43mlevel\u001b[49m\u001b[38;5;241;43m=\u001b[39;49m\u001b[43mlevel\u001b[49m\u001b[43m,\u001b[49m\n\u001b[0;32m   8257\u001b[0m \u001b[43m    \u001b[49m\u001b[43mas_index\u001b[49m\u001b[38;5;241;43m=\u001b[39;49m\u001b[43mas_index\u001b[49m\u001b[43m,\u001b[49m\n\u001b[0;32m   8258\u001b[0m \u001b[43m    \u001b[49m\u001b[43msort\u001b[49m\u001b[38;5;241;43m=\u001b[39;49m\u001b[43msort\u001b[49m\u001b[43m,\u001b[49m\n\u001b[0;32m   8259\u001b[0m \u001b[43m    \u001b[49m\u001b[43mgroup_keys\u001b[49m\u001b[38;5;241;43m=\u001b[39;49m\u001b[43mgroup_keys\u001b[49m\u001b[43m,\u001b[49m\n\u001b[0;32m   8260\u001b[0m \u001b[43m    \u001b[49m\u001b[43mobserved\u001b[49m\u001b[38;5;241;43m=\u001b[39;49m\u001b[43mobserved\u001b[49m\u001b[43m,\u001b[49m\n\u001b[0;32m   8261\u001b[0m \u001b[43m    \u001b[49m\u001b[43mdropna\u001b[49m\u001b[38;5;241;43m=\u001b[39;49m\u001b[43mdropna\u001b[49m\u001b[43m,\u001b[49m\n\u001b[0;32m   8262\u001b[0m \u001b[43m\u001b[49m\u001b[43m)\u001b[49m\n",
      "File \u001b[1;32m~\\AppData\\Roaming\\Python\\Python38\\site-packages\\pandas\\core\\groupby\\groupby.py:931\u001b[0m, in \u001b[0;36mGroupBy.__init__\u001b[1;34m(self, obj, keys, axis, level, grouper, exclusions, selection, as_index, sort, group_keys, observed, dropna)\u001b[0m\n\u001b[0;32m    928\u001b[0m \u001b[38;5;28mself\u001b[39m\u001b[38;5;241m.\u001b[39mdropna \u001b[38;5;241m=\u001b[39m dropna\n\u001b[0;32m    930\u001b[0m \u001b[38;5;28;01mif\u001b[39;00m grouper \u001b[38;5;129;01mis\u001b[39;00m \u001b[38;5;28;01mNone\u001b[39;00m:\n\u001b[1;32m--> 931\u001b[0m     grouper, exclusions, obj \u001b[38;5;241m=\u001b[39m \u001b[43mget_grouper\u001b[49m\u001b[43m(\u001b[49m\n\u001b[0;32m    932\u001b[0m \u001b[43m        \u001b[49m\u001b[43mobj\u001b[49m\u001b[43m,\u001b[49m\n\u001b[0;32m    933\u001b[0m \u001b[43m        \u001b[49m\u001b[43mkeys\u001b[49m\u001b[43m,\u001b[49m\n\u001b[0;32m    934\u001b[0m \u001b[43m        \u001b[49m\u001b[43maxis\u001b[49m\u001b[38;5;241;43m=\u001b[39;49m\u001b[43maxis\u001b[49m\u001b[43m,\u001b[49m\n\u001b[0;32m    935\u001b[0m \u001b[43m        \u001b[49m\u001b[43mlevel\u001b[49m\u001b[38;5;241;43m=\u001b[39;49m\u001b[43mlevel\u001b[49m\u001b[43m,\u001b[49m\n\u001b[0;32m    936\u001b[0m \u001b[43m        \u001b[49m\u001b[43msort\u001b[49m\u001b[38;5;241;43m=\u001b[39;49m\u001b[43msort\u001b[49m\u001b[43m,\u001b[49m\n\u001b[0;32m    937\u001b[0m \u001b[43m        \u001b[49m\u001b[43mobserved\u001b[49m\u001b[38;5;241;43m=\u001b[39;49m\u001b[43mobserved\u001b[49m\u001b[43m,\u001b[49m\n\u001b[0;32m    938\u001b[0m \u001b[43m        \u001b[49m\u001b[43mdropna\u001b[49m\u001b[38;5;241;43m=\u001b[39;49m\u001b[38;5;28;43mself\u001b[39;49m\u001b[38;5;241;43m.\u001b[39;49m\u001b[43mdropna\u001b[49m\u001b[43m,\u001b[49m\n\u001b[0;32m    939\u001b[0m \u001b[43m    \u001b[49m\u001b[43m)\u001b[49m\n\u001b[0;32m    941\u001b[0m \u001b[38;5;28mself\u001b[39m\u001b[38;5;241m.\u001b[39mobj \u001b[38;5;241m=\u001b[39m obj\n\u001b[0;32m    942\u001b[0m \u001b[38;5;28mself\u001b[39m\u001b[38;5;241m.\u001b[39maxis \u001b[38;5;241m=\u001b[39m obj\u001b[38;5;241m.\u001b[39m_get_axis_number(axis)\n",
      "File \u001b[1;32m~\\AppData\\Roaming\\Python\\Python38\\site-packages\\pandas\\core\\groupby\\grouper.py:985\u001b[0m, in \u001b[0;36mget_grouper\u001b[1;34m(obj, key, axis, level, sort, observed, validate, dropna)\u001b[0m\n\u001b[0;32m    983\u001b[0m         in_axis, level, gpr \u001b[38;5;241m=\u001b[39m \u001b[38;5;28;01mFalse\u001b[39;00m, gpr, \u001b[38;5;28;01mNone\u001b[39;00m\n\u001b[0;32m    984\u001b[0m     \u001b[38;5;28;01melse\u001b[39;00m:\n\u001b[1;32m--> 985\u001b[0m         \u001b[38;5;28;01mraise\u001b[39;00m \u001b[38;5;167;01mKeyError\u001b[39;00m(gpr)\n\u001b[0;32m    986\u001b[0m \u001b[38;5;28;01melif\u001b[39;00m \u001b[38;5;28misinstance\u001b[39m(gpr, Grouper) \u001b[38;5;129;01mand\u001b[39;00m gpr\u001b[38;5;241m.\u001b[39mkey \u001b[38;5;129;01mis\u001b[39;00m \u001b[38;5;129;01mnot\u001b[39;00m \u001b[38;5;28;01mNone\u001b[39;00m:\n\u001b[0;32m    987\u001b[0m     \u001b[38;5;66;03m# Add key to exclusions\u001b[39;00m\n\u001b[0;32m    988\u001b[0m     exclusions\u001b[38;5;241m.\u001b[39madd(gpr\u001b[38;5;241m.\u001b[39mkey)\n",
      "\u001b[1;31mKeyError\u001b[0m: 'disease_illness_name'"
     ]
    }
   ],
   "source": []
  },
  {
   "cell_type": "code",
   "execution_count": 85,
   "id": "dd8ee53e-9992-4aed-8b2f-7bbc89e5fc22",
   "metadata": {},
   "outputs": [
    {
     "data": {
      "text/html": [
       "<div>\n",
       "<style scoped>\n",
       "    .dataframe tbody tr th:only-of-type {\n",
       "        vertical-align: middle;\n",
       "    }\n",
       "\n",
       "    .dataframe tbody tr th {\n",
       "        vertical-align: top;\n",
       "    }\n",
       "\n",
       "    .dataframe thead th {\n",
       "        text-align: right;\n",
       "    }\n",
       "</style>\n",
       "<table border=\"1\" class=\"dataframe\">\n",
       "  <thead>\n",
       "    <tr style=\"text-align: right;\">\n",
       "      <th></th>\n",
       "      <th>year</th>\n",
       "      <th>week</th>\n",
       "      <th>outbreak_starting_date</th>\n",
       "      <th>reporting_date</th>\n",
       "      <th>state</th>\n",
       "      <th>district</th>\n",
       "      <th>disease_illness_name</th>\n",
       "      <th>status</th>\n",
       "      <th>cases</th>\n",
       "      <th>deaths</th>\n",
       "      <th>unit</th>\n",
       "      <th>note</th>\n",
       "    </tr>\n",
       "  </thead>\n",
       "  <tbody>\n",
       "    <tr>\n",
       "      <th>0</th>\n",
       "      <td>2025</td>\n",
       "      <td>16</td>\n",
       "      <td>15-04-2025</td>\n",
       "      <td>15-04-2025</td>\n",
       "      <td>Andhra Pradesh</td>\n",
       "      <td>Kakinada</td>\n",
       "      <td>Acute Diarrheal Disease</td>\n",
       "      <td>Reported</td>\n",
       "      <td>22</td>\n",
       "      <td>0</td>\n",
       "      <td>cases in absolute number, deaths in absolute n...</td>\n",
       "      <td>NaN</td>\n",
       "    </tr>\n",
       "    <tr>\n",
       "      <th>1</th>\n",
       "      <td>2025</td>\n",
       "      <td>16</td>\n",
       "      <td>15-04-2025</td>\n",
       "      <td>17-04-2025</td>\n",
       "      <td>Assam</td>\n",
       "      <td>Biswanath</td>\n",
       "      <td>Chickenpox</td>\n",
       "      <td>Reported</td>\n",
       "      <td>1</td>\n",
       "      <td>1</td>\n",
       "      <td>cases in absolute number, deaths in absolute n...</td>\n",
       "      <td>NaN</td>\n",
       "    </tr>\n",
       "    <tr>\n",
       "      <th>2</th>\n",
       "      <td>2025</td>\n",
       "      <td>16</td>\n",
       "      <td>19-04-2025</td>\n",
       "      <td>20-04-2025</td>\n",
       "      <td>Assam</td>\n",
       "      <td>Dhemaji</td>\n",
       "      <td>Food Poisoning</td>\n",
       "      <td>Reported</td>\n",
       "      <td>16</td>\n",
       "      <td>0</td>\n",
       "      <td>cases in absolute number, deaths in absolute n...</td>\n",
       "      <td>NaN</td>\n",
       "    </tr>\n",
       "  </tbody>\n",
       "</table>\n",
       "</div>"
      ],
      "text/plain": [
       "   year  week outbreak_starting_date reporting_date           state  \\\n",
       "0  2025    16             15-04-2025     15-04-2025  Andhra Pradesh   \n",
       "1  2025    16             15-04-2025     17-04-2025           Assam   \n",
       "2  2025    16             19-04-2025     20-04-2025           Assam   \n",
       "\n",
       "    district     disease_illness_name    status  cases  deaths  \\\n",
       "0   Kakinada  Acute Diarrheal Disease  Reported     22       0   \n",
       "1  Biswanath               Chickenpox  Reported      1       1   \n",
       "2    Dhemaji           Food Poisoning  Reported     16       0   \n",
       "\n",
       "                                                unit note  \n",
       "0  cases in absolute number, deaths in absolute n...  NaN  \n",
       "1  cases in absolute number, deaths in absolute n...  NaN  \n",
       "2  cases in absolute number, deaths in absolute n...  NaN  "
      ]
     },
     "execution_count": 85,
     "metadata": {},
     "output_type": "execute_result"
    }
   ],
   "source": [
    "idsp_df_copy = idsp_df\n",
    "idsp_df_copy.head(3)"
   ]
  },
  {
   "cell_type": "code",
   "execution_count": 86,
   "id": "83323ec6-f3fb-4234-ac0e-3afaf78dbc79",
   "metadata": {},
   "outputs": [
    {
     "data": {
      "text/html": [
       "<div>\n",
       "<style scoped>\n",
       "    .dataframe tbody tr th:only-of-type {\n",
       "        vertical-align: middle;\n",
       "    }\n",
       "\n",
       "    .dataframe tbody tr th {\n",
       "        vertical-align: top;\n",
       "    }\n",
       "\n",
       "    .dataframe thead th {\n",
       "        text-align: right;\n",
       "    }\n",
       "</style>\n",
       "<table border=\"1\" class=\"dataframe\">\n",
       "  <thead>\n",
       "    <tr style=\"text-align: right;\">\n",
       "      <th></th>\n",
       "      <th>state</th>\n",
       "      <th>disease_illness_name</th>\n",
       "      <th>count</th>\n",
       "    </tr>\n",
       "  </thead>\n",
       "  <tbody>\n",
       "    <tr>\n",
       "      <th>0</th>\n",
       "      <td>Andaman and Nicobar Islands</td>\n",
       "      <td>Acute Diarrheal Disease</td>\n",
       "      <td>3</td>\n",
       "    </tr>\n",
       "    <tr>\n",
       "      <th>1</th>\n",
       "      <td>Andaman and Nicobar Islands</td>\n",
       "      <td>Chickenpox</td>\n",
       "      <td>1</td>\n",
       "    </tr>\n",
       "    <tr>\n",
       "      <th>2</th>\n",
       "      <td>Andaman and Nicobar Islands</td>\n",
       "      <td>Fever with Rash</td>\n",
       "      <td>1</td>\n",
       "    </tr>\n",
       "  </tbody>\n",
       "</table>\n",
       "</div>"
      ],
      "text/plain": [
       "                         state     disease_illness_name  count\n",
       "0  Andaman and Nicobar Islands  Acute Diarrheal Disease      3\n",
       "1  Andaman and Nicobar Islands               Chickenpox      1\n",
       "2  Andaman and Nicobar Islands          Fever with Rash      1"
      ]
     },
     "execution_count": 86,
     "metadata": {},
     "output_type": "execute_result"
    }
   ],
   "source": [
    "disease_counts = (idsp_df_copy.groupby(['state', 'disease_illness_name']).size().reset_index(name='count'))\n",
    "disease_counts.head(3)"
   ]
  },
  {
   "cell_type": "code",
   "execution_count": 92,
   "id": "8b4a6252-1df1-4c0e-b642-9f0f7323649e",
   "metadata": {},
   "outputs": [],
   "source": [
    "top2_diseases = (\n",
    "    disease_counts.groupby('state', group_keys=False)\n",
    "    .apply(lambda x: x.sort_values(by='count', ascending=False).head(2))\n",
    "    .reset_index(drop=True)\n",
    ")"
   ]
  },
  {
   "cell_type": "code",
   "execution_count": 93,
   "id": "c6d7e163-207a-4a82-bca2-770b62914e4b",
   "metadata": {},
   "outputs": [],
   "source": [
    "avg_aqi = (\n",
    "    aqi_df_copy.groupby('state')['aqi_value']\n",
    "    .mean()\n",
    "    .reset_index()\n",
    "    .rename(columns={'aqi_value': 'avg_aqi'})\n",
    ")"
   ]
  },
  {
   "cell_type": "code",
   "execution_count": 94,
   "id": "f1791ed0-7a1a-4dcd-bdad-1501ebcefc2b",
   "metadata": {},
   "outputs": [
    {
     "name": "stdout",
     "output_type": "stream",
     "text": [
      "                          state     disease_illness_name  count     avg_aqi\n",
      "0   Andaman and Nicobar Islands  Acute Diarrheal Disease      3   57.706897\n",
      "1   Andaman and Nicobar Islands               Chickenpox      1   57.706897\n",
      "2                Andhra Pradesh  Acute Diarrheal Disease     91   77.507701\n",
      "3                Andhra Pradesh           Food Poisoning     25   77.507701\n",
      "4                     Arunachal                   Rabies      1         NaN\n",
      "..                          ...                      ...    ...         ...\n",
      "71                Uttar Pradesh           Food Poisoning     46  126.424036\n",
      "72                  Uttarakhand  Acute Diarrheal Disease     16   87.898799\n",
      "73                  Uttarakhand                   Dengue      7   87.898799\n",
      "74                  West Bengal  Acute Diarrheal Disease     81  114.192891\n",
      "75                  West Bengal           Food Poisoning     42  114.192891\n",
      "\n",
      "[76 rows x 4 columns]\n"
     ]
    }
   ],
   "source": [
    "final_result = pd.merge(top2_diseases, avg_aqi, on='state', how='left')\n",
    "print(final_result)"
   ]
  },
  {
   "cell_type": "code",
   "execution_count": 97,
   "id": "1dbc6151-50ac-4e06-b028-3404cc040394",
   "metadata": {},
   "outputs": [],
   "source": [
    "final_result.to_excel(\"final_result.xlsx\",index=False)"
   ]
  },
  {
   "cell_type": "code",
   "execution_count": 96,
   "id": "cd01d07f-a69f-406f-8270-e6a47483d6a2",
   "metadata": {},
   "outputs": [
    {
     "data": {
      "text/html": [
       "<div>\n",
       "<style scoped>\n",
       "    .dataframe tbody tr th:only-of-type {\n",
       "        vertical-align: middle;\n",
       "    }\n",
       "\n",
       "    .dataframe tbody tr th {\n",
       "        vertical-align: top;\n",
       "    }\n",
       "\n",
       "    .dataframe thead th {\n",
       "        text-align: right;\n",
       "    }\n",
       "</style>\n",
       "<table border=\"1\" class=\"dataframe\">\n",
       "  <thead>\n",
       "    <tr style=\"text-align: right;\">\n",
       "      <th></th>\n",
       "      <th>year</th>\n",
       "      <th>month</th>\n",
       "      <th>state</th>\n",
       "      <th>rto</th>\n",
       "      <th>vehicle_class</th>\n",
       "      <th>fuel</th>\n",
       "      <th>value</th>\n",
       "      <th>unit</th>\n",
       "      <th>note</th>\n",
       "    </tr>\n",
       "  </thead>\n",
       "  <tbody>\n",
       "    <tr>\n",
       "      <th>0</th>\n",
       "      <td>2025</td>\n",
       "      <td>April</td>\n",
       "      <td>Andaman and Nicobar Islands</td>\n",
       "      <td>All Vahan Running Office</td>\n",
       "      <td>BUS</td>\n",
       "      <td>DIESEL</td>\n",
       "      <td>2</td>\n",
       "      <td>value in Absolute Number</td>\n",
       "      <td>NaN</td>\n",
       "    </tr>\n",
       "    <tr>\n",
       "      <th>1</th>\n",
       "      <td>2025</td>\n",
       "      <td>April</td>\n",
       "      <td>Andaman and Nicobar Islands</td>\n",
       "      <td>All Vahan Running Office</td>\n",
       "      <td>GOODS CARRIER</td>\n",
       "      <td>DIESEL</td>\n",
       "      <td>23</td>\n",
       "      <td>value in Absolute Number</td>\n",
       "      <td>NaN</td>\n",
       "    </tr>\n",
       "  </tbody>\n",
       "</table>\n",
       "</div>"
      ],
      "text/plain": [
       "   year  month                        state                       rto  \\\n",
       "0  2025  April  Andaman and Nicobar Islands  All Vahan Running Office   \n",
       "1  2025  April  Andaman and Nicobar Islands  All Vahan Running Office   \n",
       "\n",
       "   vehicle_class    fuel  value                      unit  note  \n",
       "0            BUS  DIESEL      2  value in Absolute Number   NaN  \n",
       "1  GOODS CARRIER  DIESEL     23  value in Absolute Number   NaN  "
      ]
     },
     "execution_count": 96,
     "metadata": {},
     "output_type": "execute_result"
    }
   ],
   "source": [
    "vahan_df_copy = vahan_df\n",
    "vahan_df_copy.head(2)"
   ]
  },
  {
   "cell_type": "code",
   "execution_count": 98,
   "id": "9485f0c9-c828-4979-a318-9e1d17030fde",
   "metadata": {},
   "outputs": [
    {
     "data": {
      "text/html": [
       "<div>\n",
       "<style scoped>\n",
       "    .dataframe tbody tr th:only-of-type {\n",
       "        vertical-align: middle;\n",
       "    }\n",
       "\n",
       "    .dataframe tbody tr th {\n",
       "        vertical-align: top;\n",
       "    }\n",
       "\n",
       "    .dataframe thead th {\n",
       "        text-align: right;\n",
       "    }\n",
       "</style>\n",
       "<table border=\"1\" class=\"dataframe\">\n",
       "  <thead>\n",
       "    <tr style=\"text-align: right;\">\n",
       "      <th></th>\n",
       "      <th>year</th>\n",
       "      <th>month</th>\n",
       "      <th>state</th>\n",
       "      <th>rto</th>\n",
       "      <th>vehicle_class</th>\n",
       "      <th>fuel</th>\n",
       "      <th>value</th>\n",
       "      <th>unit</th>\n",
       "      <th>note</th>\n",
       "    </tr>\n",
       "  </thead>\n",
       "  <tbody>\n",
       "    <tr>\n",
       "      <th>6</th>\n",
       "      <td>2025</td>\n",
       "      <td>April</td>\n",
       "      <td>Andaman and Nicobar Islands</td>\n",
       "      <td>All Vahan Running Office</td>\n",
       "      <td>M-CYCLE/SCOOTER</td>\n",
       "      <td>PURE EV</td>\n",
       "      <td>2</td>\n",
       "      <td>value in Absolute Number</td>\n",
       "      <td>NaN</td>\n",
       "    </tr>\n",
       "    <tr>\n",
       "      <th>16</th>\n",
       "      <td>2025</td>\n",
       "      <td>April</td>\n",
       "      <td>Andaman and Nicobar Islands</td>\n",
       "      <td>All Vahan Running Office</td>\n",
       "      <td>MOTOR CAR</td>\n",
       "      <td>PURE EV</td>\n",
       "      <td>3</td>\n",
       "      <td>value in Absolute Number</td>\n",
       "      <td>NaN</td>\n",
       "    </tr>\n",
       "    <tr>\n",
       "      <th>33</th>\n",
       "      <td>2025</td>\n",
       "      <td>April</td>\n",
       "      <td>Andhra Pradesh</td>\n",
       "      <td>All Vahan Running Office</td>\n",
       "      <td>E-RICKSHAW WITH CART (G)</td>\n",
       "      <td>PURE EV</td>\n",
       "      <td>1</td>\n",
       "      <td>value in Absolute Number</td>\n",
       "      <td>NaN</td>\n",
       "    </tr>\n",
       "    <tr>\n",
       "      <th>35</th>\n",
       "      <td>2025</td>\n",
       "      <td>April</td>\n",
       "      <td>Andhra Pradesh</td>\n",
       "      <td>All Vahan Running Office</td>\n",
       "      <td>E-RICKSHAW(P)</td>\n",
       "      <td>PURE EV</td>\n",
       "      <td>2</td>\n",
       "      <td>value in Absolute Number</td>\n",
       "      <td>NaN</td>\n",
       "    </tr>\n",
       "    <tr>\n",
       "      <th>45</th>\n",
       "      <td>2025</td>\n",
       "      <td>April</td>\n",
       "      <td>Andhra Pradesh</td>\n",
       "      <td>All Vahan Running Office</td>\n",
       "      <td>GOODS CARRIER</td>\n",
       "      <td>PURE EV</td>\n",
       "      <td>8</td>\n",
       "      <td>value in Absolute Number</td>\n",
       "      <td>NaN</td>\n",
       "    </tr>\n",
       "  </tbody>\n",
       "</table>\n",
       "</div>"
      ],
      "text/plain": [
       "    year  month                        state                       rto  \\\n",
       "6   2025  April  Andaman and Nicobar Islands  All Vahan Running Office   \n",
       "16  2025  April  Andaman and Nicobar Islands  All Vahan Running Office   \n",
       "33  2025  April               Andhra Pradesh  All Vahan Running Office   \n",
       "35  2025  April               Andhra Pradesh  All Vahan Running Office   \n",
       "45  2025  April               Andhra Pradesh  All Vahan Running Office   \n",
       "\n",
       "               vehicle_class     fuel  value                      unit  note  \n",
       "6            M-CYCLE/SCOOTER  PURE EV      2  value in Absolute Number   NaN  \n",
       "16                 MOTOR CAR  PURE EV      3  value in Absolute Number   NaN  \n",
       "33  E-RICKSHAW WITH CART (G)  PURE EV      1  value in Absolute Number   NaN  \n",
       "35             E-RICKSHAW(P)  PURE EV      2  value in Absolute Number   NaN  \n",
       "45             GOODS CARRIER  PURE EV      8  value in Absolute Number   NaN  "
      ]
     },
     "execution_count": 98,
     "metadata": {},
     "output_type": "execute_result"
    }
   ],
   "source": [
    "ev_only = vahan_df_copy[vahan_df_copy['fuel'].str.lower().str.strip() == 'pure ev']\n",
    "ev_only.head(5)"
   ]
  },
  {
   "cell_type": "code",
   "execution_count": 99,
   "id": "2a8f10d7-41e7-4b18-ac7d-28ae174af7e2",
   "metadata": {},
   "outputs": [],
   "source": [
    "ev_by_state = ev_only.groupby('state')['value'].sum().reset_index()"
   ]
  },
  {
   "cell_type": "code",
   "execution_count": 100,
   "id": "32bb3271-4761-49f2-b6a3-314455b05a59",
   "metadata": {},
   "outputs": [
    {
     "name": "stdout",
     "output_type": "stream",
     "text": [
      "             state   value\n",
      "19     Maharashtra  162298\n",
      "31   Uttar Pradesh  115660\n",
      "15       Karnataka   95971\n",
      "29      Tamil Nadu   70850\n",
      "18  Madhya Pradesh   64995\n"
     ]
    }
   ],
   "source": [
    "top_5_ev_states = ev_by_state.sort_values(by='value', ascending=False).head(5)\n",
    "\n",
    "print(top_5_ev_states)\n"
   ]
  },
  {
   "cell_type": "code",
   "execution_count": 105,
   "id": "52718a65-40cc-4108-949e-98b5f38b5bf0",
   "metadata": {},
   "outputs": [],
   "source": [
    "top_5_ev_states.to_excel(\"top_5_ev_states.xlsx\",index=False)"
   ]
  },
  {
   "cell_type": "code",
   "execution_count": 101,
   "id": "611d8da6-9c1b-48bb-b620-5f080b82bb89",
   "metadata": {},
   "outputs": [],
   "source": [
    "aqi_by_state = aqi_df_copy.groupby('state')['aqi_value'].mean().reset_index()\n"
   ]
  },
  {
   "cell_type": "code",
   "execution_count": 102,
   "id": "d645c5e0-aaf8-41b3-aa7f-2d89d3009f2c",
   "metadata": {},
   "outputs": [],
   "source": [
    "aqi_by_state['Category'] = aqi_by_state['state'].apply(\n",
    "    lambda x: 'Top 5 EV' if x in top_5_ev_states['state'].values else 'Other'\n",
    ")"
   ]
  },
  {
   "cell_type": "code",
   "execution_count": 104,
   "id": "1a5b8ac2-aba1-4f1c-836b-44e488a1ffa3",
   "metadata": {},
   "outputs": [
    {
     "name": "stdout",
     "output_type": "stream",
     "text": [
      "   Category   aqi_value\n",
      "0     Other  103.121506\n",
      "1  Top 5 EV   93.842172\n"
     ]
    }
   ],
   "source": [
    "aqi_EV_comparison = aqi_by_state.groupby('Category')['aqi_value'].mean().reset_index()\n",
    "print(aqi_EV_comparison)"
   ]
  },
  {
   "cell_type": "code",
   "execution_count": 106,
   "id": "221082ab-6d5d-4556-ace0-4ac4f9103597",
   "metadata": {},
   "outputs": [],
   "source": [
    "aqi_EV_comparison.to_excel(\"aqi_EV_comparison.xlsx\",index=False)"
   ]
  },
  {
   "cell_type": "code",
   "execution_count": 107,
   "id": "e6281e91-3322-4e92-a369-60223d4b5c3f",
   "metadata": {},
   "outputs": [
    {
     "name": "stderr",
     "output_type": "stream",
     "text": [
      "C:\\Users\\91892\\AppData\\Local\\Temp\\ipykernel_11036\\4172751971.py:2: FutureWarning: \n",
      "\n",
      "Passing `palette` without assigning `hue` is deprecated and will be removed in v0.14.0. Assign the `x` variable to `hue` and set `legend=False` for the same effect.\n",
      "\n",
      "  sns.barplot(data=aqi_comparison, x='Category', y='aqi_value', palette='viridis')\n"
     ]
    },
    {
     "data": {
      "image/png": "[encoded data removed]",
      "text/plain": [
       "<Figure size 600x400 with 1 Axes>"
      ]
     },
     "metadata": {},
     "output_type": "display_data"
    }
   ],
   "source": [
    "plt.figure(figsize=(6,4))\n",
    "sns.barplot(data=aqi_comparison, x='Category', y='aqi_value', palette='viridis')\n",
    "plt.title('Average AQI: Top 5 EV States vs Others')\n",
    "plt.ylabel('Average AQI')\n",
    "plt.xlabel('')\n",
    "plt.show()"
   ]
  },
  {
   "cell_type": "code",
   "execution_count": 111,
   "id": "b97fbf0b-661a-4db2-a252-cbb248c98961",
   "metadata": {},
   "outputs": [
    {
     "data": {
      "text/html": [
       "<div>\n",
       "<style scoped>\n",
       "    .dataframe tbody tr th:only-of-type {\n",
       "        vertical-align: middle;\n",
       "    }\n",
       "\n",
       "    .dataframe tbody tr th {\n",
       "        vertical-align: top;\n",
       "    }\n",
       "\n",
       "    .dataframe thead th {\n",
       "        text-align: right;\n",
       "    }\n",
       "</style>\n",
       "<table border=\"1\" class=\"dataframe\">\n",
       "  <thead>\n",
       "    <tr style=\"text-align: right;\">\n",
       "      <th></th>\n",
       "      <th>year</th>\n",
       "      <th>month</th>\n",
       "      <th>state</th>\n",
       "      <th>gender</th>\n",
       "      <th>value</th>\n",
       "      <th>unit</th>\n",
       "      <th>note</th>\n",
       "    </tr>\n",
       "  </thead>\n",
       "  <tbody>\n",
       "    <tr>\n",
       "      <th>0</th>\n",
       "      <td>2036</td>\n",
       "      <td>October</td>\n",
       "      <td>West Bengal</td>\n",
       "      <td>Total</td>\n",
       "      <td>43964</td>\n",
       "      <td>value in Thousands</td>\n",
       "      <td>NaN</td>\n",
       "    </tr>\n",
       "    <tr>\n",
       "      <th>1</th>\n",
       "      <td>2036</td>\n",
       "      <td>October</td>\n",
       "      <td>West Bengal</td>\n",
       "      <td>Male</td>\n",
       "      <td>22615</td>\n",
       "      <td>value in Thousands</td>\n",
       "      <td>NaN</td>\n",
       "    </tr>\n",
       "  </tbody>\n",
       "</table>\n",
       "</div>"
      ],
      "text/plain": [
       "   year    month        state gender  value                unit  note\n",
       "0  2036  October  West Bengal  Total  43964  value in Thousands   NaN\n",
       "1  2036  October  West Bengal   Male  22615  value in Thousands   NaN"
      ]
     },
     "execution_count": 111,
     "metadata": {},
     "output_type": "execute_result"
    }
   ],
   "source": [
    "pop_df = pd.read_csv(r\"E:\\Air-Pure\\population_projection.csv\", encoding='latin1')\n",
    "pop_df_copy = pop_df\n",
    "pop_df_copy.head(2)"
   ]
  },
  {
   "cell_type": "code",
   "execution_count": 115,
   "id": "7a8a6754-8b62-4b05-be86-4b0f5af1f3ff",
   "metadata": {},
   "outputs": [],
   "source": [
    "pop_df_copy = pop_df_copy[(pop_df_copy['year'] >= 2022) & (pop_df_copy['year'] <= 2025)]"
   ]
  },
  {
   "cell_type": "code",
   "execution_count": 110,
   "id": "8d074ea0-ef90-4fa0-a29f-675d2e23968b",
   "metadata": {},
   "outputs": [],
   "source": [
    "age_dist = {\n",
    "    \"0-14\": 0.243,\n",
    "    \"15-59\": 0.644,\n",
    "    \"60+\": 0.107\n",
    "}"
   ]
  },
  {
   "cell_type": "code",
   "execution_count": 119,
   "id": "4905e9ce-6bbc-48c4-a62c-aeac0522d345",
   "metadata": {},
   "outputs": [],
   "source": [
    "age_df = pop_df_copy.loc[pop_df_copy.index.repeat(len(age_dist))].copy()"
   ]
  },
  {
   "cell_type": "code",
   "execution_count": 120,
   "id": "f7baab8b-ccc3-4061-981d-7ced63ef5393",
   "metadata": {},
   "outputs": [],
   "source": [
    "age_df['age_group'] = list(age_dist.keys()) * len(pop_df_copy)"
   ]
  },
  {
   "cell_type": "code",
   "execution_count": 121,
   "id": "9c914031-1e6a-45c7-86f0-afc3f690de1e",
   "metadata": {},
   "outputs": [],
   "source": [
    "age_df['age_group_pop'] = age_df.apply(\n",
    "    lambda r: r['value'] * age_dist[r['age_group']],\n",
    "    axis=1\n",
    ")\n"
   ]
  },
  {
   "cell_type": "code",
   "execution_count": 122,
   "id": "f473be47-e75c-47b4-9ef5-d7f87b0ad318",
   "metadata": {},
   "outputs": [],
   "source": [
    "age_df.to_excel(\"population_by_age_2022_2025.xlsx\", index=False)"
   ]
  },
  {
   "cell_type": "code",
   "execution_count": 123,
   "id": "75d98ec5-0bb1-46f5-aceb-8eafb2518064",
   "metadata": {},
   "outputs": [
    {
     "name": "stdout",
     "output_type": "stream",
     "text": [
      "      year    month        state  gender  value                unit  note  \\\n",
      "3762  2025  October  West Bengal   Total  37995  value in Thousands   NaN   \n",
      "3762  2025  October  West Bengal   Total  37995  value in Thousands   NaN   \n",
      "3762  2025  October  West Bengal   Total  37995  value in Thousands   NaN   \n",
      "3763  2025  October  West Bengal    Male  19545  value in Thousands   NaN   \n",
      "3763  2025  October  West Bengal    Male  19545  value in Thousands   NaN   \n",
      "3763  2025  October  West Bengal    Male  19545  value in Thousands   NaN   \n",
      "3764  2025  October  West Bengal  Female  18450  value in Thousands   NaN   \n",
      "3764  2025  October  West Bengal  Female  18450  value in Thousands   NaN   \n",
      "3764  2025  October  West Bengal  Female  18450  value in Thousands   NaN   \n",
      "3765  2025  October  Uttarakhand   Total   4431  value in Thousands   NaN   \n",
      "3765  2025  October  Uttarakhand   Total   4431  value in Thousands   NaN   \n",
      "3765  2025  October  Uttarakhand   Total   4431  value in Thousands   NaN   \n",
      "\n",
      "     age_group  age_group_pop  \n",
      "3762      0-14       9232.785  \n",
      "3762     15-59      24468.780  \n",
      "3762       60+       4065.465  \n",
      "3763      0-14       4749.435  \n",
      "3763     15-59      12586.980  \n",
      "3763       60+       2091.315  \n",
      "3764      0-14       4483.350  \n",
      "3764     15-59      11881.800  \n",
      "3764       60+       1974.150  \n",
      "3765      0-14       1076.733  \n",
      "3765     15-59       2853.564  \n",
      "3765       60+        474.117  \n"
     ]
    }
   ],
   "source": [
    "print(age_df.head(12))"
   ]
  },
  {
   "cell_type": "code",
   "execution_count": 129,
   "id": "43f18e00-bfa7-485c-baae-c91aab2a2fca",
   "metadata": {},
   "outputs": [
    {
     "data": {
      "text/html": [
       "<div>\n",
       "<style scoped>\n",
       "    .dataframe tbody tr th:only-of-type {\n",
       "        vertical-align: middle;\n",
       "    }\n",
       "\n",
       "    .dataframe tbody tr th {\n",
       "        vertical-align: top;\n",
       "    }\n",
       "\n",
       "    .dataframe thead th {\n",
       "        text-align: right;\n",
       "    }\n",
       "</style>\n",
       "<table border=\"1\" class=\"dataframe\">\n",
       "  <thead>\n",
       "    <tr style=\"text-align: right;\">\n",
       "      <th></th>\n",
       "      <th>date</th>\n",
       "      <th>state</th>\n",
       "      <th>area</th>\n",
       "      <th>number_of_monitoring_stations</th>\n",
       "      <th>prominent_pollutants</th>\n",
       "      <th>aqi_value</th>\n",
       "      <th>air_quality_status</th>\n",
       "      <th>unit</th>\n",
       "      <th>note</th>\n",
       "      <th>year_month</th>\n",
       "      <th>month_name</th>\n",
       "    </tr>\n",
       "  </thead>\n",
       "  <tbody>\n",
       "    <tr>\n",
       "      <th>0</th>\n",
       "      <td>2025-04-30</td>\n",
       "      <td>Maharashtra</td>\n",
       "      <td>Amravati</td>\n",
       "      <td>2</td>\n",
       "      <td>PM10</td>\n",
       "      <td>78</td>\n",
       "      <td>Satisfactory</td>\n",
       "      <td>number_of_monitoring_stations in Absolute Numb...</td>\n",
       "      <td>NaN</td>\n",
       "      <td>2025-04</td>\n",
       "      <td>April</td>\n",
       "    </tr>\n",
       "  </tbody>\n",
       "</table>\n",
       "</div>"
      ],
      "text/plain": [
       "        date        state      area  number_of_monitoring_stations  \\\n",
       "0 2025-04-30  Maharashtra  Amravati                              2   \n",
       "\n",
       "  prominent_pollutants  aqi_value air_quality_status  \\\n",
       "0                 PM10         78       Satisfactory   \n",
       "\n",
       "                                                unit  note year_month  \\\n",
       "0  number_of_monitoring_stations in Absolute Numb...   NaN    2025-04   \n",
       "\n",
       "  month_name  \n",
       "0      April  "
      ]
     },
     "execution_count": 129,
     "metadata": {},
     "output_type": "execute_result"
    }
   ],
   "source": [
    "aqi_df_copy.head(1)"
   ]
  },
  {
   "cell_type": "code",
   "execution_count": 130,
   "id": "352fda64-56a0-4245-ae69-d31c487a82bc",
   "metadata": {},
   "outputs": [],
   "source": [
    "aqi_df_copy['year'] = pd.to_datetime(aqi_df_copy['date']).dt.year"
   ]
  },
  {
   "cell_type": "code",
   "execution_count": 132,
   "id": "66b23178-eb61-412e-a55f-c5ca922e50fe",
   "metadata": {},
   "outputs": [],
   "source": [
    "aqi_2024 = aqi_df_copy[aqi_df_copy['year'] == 2024]\n",
    "pop_2024 = pop_df_copy[pop_df_copy['year'] == 2024]\n"
   ]
  },
  {
   "cell_type": "code",
   "execution_count": 133,
   "id": "cf228dad-ab78-4ca5-ae3f-fab7ee48ab14",
   "metadata": {},
   "outputs": [],
   "source": [
    "merged = pd.merge(aqi_2024, pop_2024, on=['state', 'year'])"
   ]
  },
  {
   "cell_type": "code",
   "execution_count": 134,
   "id": "65fd2c1a-bbf9-445a-9d0b-9ca8f0c894a0",
   "metadata": {},
   "outputs": [
    {
     "name": "stdout",
     "output_type": "stream",
     "text": [
      "Correlation between population (state-level) and AQI (city-level): -0.0656623928971573\n"
     ]
    }
   ],
   "source": [
    "correlation = merged['value'].corr(merged['aqi_value'])\n",
    "print(f\"Correlation between population (state-level) and AQI (city-level): {correlation}\")"
   ]
  },
  {
   "cell_type": "code",
   "execution_count": 135,
   "id": "f4190d42-14cf-426d-80fc-6b2b25215d94",
   "metadata": {},
   "outputs": [
    {
     "data": {
      "image/png": "[encoded data removed]",
      "text/plain": [
       "<Figure size 800x500 with 1 Axes>"
      ]
     },
     "metadata": {},
     "output_type": "display_data"
    }
   ],
   "source": [
    "plt.figure(figsize=(8,5))\n",
    "plt.scatter(merged['value'], merged['aqi_value'], alpha=0.7)\n",
    "plt.xlabel('Population (State Level, 2024)')\n",
    "plt.ylabel('Average AQI (City Level, 2024)')\n",
    "plt.title('Population vs AQI (2024) - Approximation')\n",
    "plt.grid(True, linestyle='--', alpha=0.5)\n",
    "plt.show()"
   ]
  },
  {
   "cell_type": "code",
   "execution_count": 141,
   "id": "d5d9b6a6-595c-4bf9-a2f2-8ffeedea507a",
   "metadata": {},
   "outputs": [
    {
     "data": {
      "image/png": "[encoded data removed]",
      "text/plain": [
       "<Figure size 800x600 with 1 Axes>"
      ]
     },
     "metadata": {},
     "output_type": "display_data"
    }
   ],
   "source": [
    "\n",
    "\n",
    "# Assume aqi_df has: ['city', 'state', 'date', 'aqi']\n",
    "# Assume population_projection has: ['state', 'year', 'population']\n",
    "\n",
    "# Step 1: Extract year from AQI date\n",
    "aqi_df_copy['year'] = pd.to_datetime(aqi_df_copy['date']).dt.year\n",
    "\n",
    "# Step 2: Filter for 2024 data\n",
    "aqi_2024 = aqi_df_copy[aqi_df_copy['year'] == 2024]\n",
    "pop_2024 = pop_df_copy[pop_df_copy['year'] == 2024]\n",
    "\n",
    "# Step 3: Count number of cities in each state (from AQI data)\n",
    "city_counts = aqi_2024.groupby('state')['area'].nunique().reset_index(name='city_count')\n",
    "\n",
    "# Step 4: Merge state population with city count\n",
    "state_pop_with_counts = pop_2024.merge(city_counts, on='state', how='left')\n",
    "\n",
    "# Step 5: Approximate city population (equal share)\n",
    "state_pop_with_counts['city_population_est'] = state_pop_with_counts['value'] / state_pop_with_counts['city_count']\n",
    "\n",
    "# Step 6: Merge back to AQI data\n",
    "aqi_with_city_pop = aqi_2024.merge(\n",
    "    state_pop_with_counts[['state', 'city_population_est']],\n",
    "    on='state',\n",
    "    how='left'\n",
    ")\n",
    "\n",
    "# Step 7: Average AQI per city for 2024\n",
    "city_aqi_avg = aqi_with_city_pop.groupby(['area', 'city_population_est'])['aqi_value'].mean().reset_index()\n",
    "\n",
    "# Step 8: Scatter plot\n",
    "import matplotlib.pyplot as plt\n",
    "\n",
    "plt.figure(figsize=(8,6))\n",
    "plt.scatter(city_aqi_avg['city_population_est'], city_aqi_avg['aqi_value'], alpha=0.5)\n",
    "plt.xlabel('Estimated City Population (2024)')\n",
    "plt.ylabel('Average AQI (2024)')\n",
    "plt.title('Estimated City Population vs AQI (2024)')\n",
    "plt.grid(True, linestyle='--', alpha=0.5)\n",
    "plt.show()\n"
   ]
  },
  {
   "cell_type": "code",
   "execution_count": null,
   "id": "b1ebf23a-e3d0-4c64-a04d-63da284deee6",
   "metadata": {},
   "outputs": [],
   "source": []
  }
 ],
 "metadata": {
  "kernelspec": {
   "display_name": "Python 3 (ipykernel)",
   "language": "python",
   "name": "python3"
  },
  "language_info": {
   "codemirror_mode": {
    "name": "ipython",
    "version": 3
   },
   "file_extension": ".py",
   "mimetype": "text/x-python",
   "name": "python",
   "nbconvert_exporter": "python",
   "pygments_lexer": "ipython3",
   "version": "3.8.10"
  }
 },
 "nbformat": 4,
 "nbformat_minor": 5
}
